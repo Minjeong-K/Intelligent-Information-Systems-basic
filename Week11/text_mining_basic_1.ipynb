{
 "cells": [
  {
   "cell_type": "markdown",
   "metadata": {},
   "source": [
    "# 텍스트 마이닝\n",
    "\n",
    "### 텍스트 마이닝이란?\n",
    "- 비정형 데이터를 분석하여 유용한 정보와 숨겨져 있는 의미 있는 정보를 찾아내는 분석 방법\n",
    "- **텍스트 마이닝** : 텍스트 문서로 부터 의미있는 정보를 추출하고 분석하는 기술\n",
    "    - 비정형 데이터를 정형화하는 과정 요구\n",
    "    - 자연어 처리 기술에 기반을 두고 데이터를 가공하는 기술\n",
    "\n",
    "\n",
    "- 비정형 데이터 -> 정형 데이터 -> 시각화\n",
    "\n",
    "### 텍스트 마이닝 프로세스\n",
    "- 데이터 수집 -> 데이터 전처리 -> 데이터 분석 및 시각화\n",
    "\n",
    "### 형태소 분석과 품사 태깅\n",
    "- **형태소 분석** : 형태소를 비롯하여 어근, 접두사/접미사, 품사 등 다양한 언어적 속성의 구조를 파악하는 것\n",
    "- **품사 태깅** : 형태소의 뜻과 문맥을 고려하여 그것에 마크업을 하는 일"
   ]
  },
  {
   "cell_type": "code",
   "execution_count": 1,
   "metadata": {},
   "outputs": [
    {
     "name": "stdout",
     "output_type": "stream",
     "text": [
      "Collecting konlpy\n",
      "  Downloading konlpy-0.5.2-py2.py3-none-any.whl (19.4 MB)\n",
      "Collecting JPype1>=0.7.0\n",
      "  Downloading JPype1-1.1.2-cp38-cp38-win_amd64.whl (1.6 MB)\n",
      "Collecting tweepy>=3.7.0\n",
      "  Downloading tweepy-3.9.0-py2.py3-none-any.whl (30 kB)\n",
      "Requirement already satisfied: lxml>=4.1.0 in c:\\anaconda3\\lib\\site-packages (from konlpy) (4.5.2)\n",
      "Requirement already satisfied: numpy>=1.6 in c:\\anaconda3\\lib\\site-packages (from konlpy) (1.18.5)\n",
      "Requirement already satisfied: colorama in c:\\anaconda3\\lib\\site-packages (from konlpy) (0.4.3)\n",
      "Collecting beautifulsoup4==4.6.0\n",
      "  Downloading beautifulsoup4-4.6.0-py3-none-any.whl (86 kB)\n",
      "Collecting requests-oauthlib>=0.7.0\n",
      "  Downloading requests_oauthlib-1.3.0-py2.py3-none-any.whl (23 kB)\n",
      "Requirement already satisfied: requests[socks]>=2.11.1 in c:\\anaconda3\\lib\\site-packages (from tweepy>=3.7.0->konlpy) (2.24.0)\n",
      "Requirement already satisfied: six>=1.10.0 in c:\\anaconda3\\lib\\site-packages (from tweepy>=3.7.0->konlpy) (1.15.0)\n",
      "Collecting oauthlib>=3.0.0\n",
      "  Downloading oauthlib-3.1.0-py2.py3-none-any.whl (147 kB)\n",
      "Requirement already satisfied: urllib3!=1.25.0,!=1.25.1,<1.26,>=1.21.1 in c:\\anaconda3\\lib\\site-packages (from requests[socks]>=2.11.1->tweepy>=3.7.0->konlpy) (1.25.9)\n",
      "Requirement already satisfied: chardet<4,>=3.0.2 in c:\\anaconda3\\lib\\site-packages (from requests[socks]>=2.11.1->tweepy>=3.7.0->konlpy) (3.0.4)\n",
      "Requirement already satisfied: certifi>=2017.4.17 in c:\\anaconda3\\lib\\site-packages (from requests[socks]>=2.11.1->tweepy>=3.7.0->konlpy) (2020.6.20)\n",
      "Requirement already satisfied: idna<3,>=2.5 in c:\\anaconda3\\lib\\site-packages (from requests[socks]>=2.11.1->tweepy>=3.7.0->konlpy) (2.10)\n",
      "Requirement already satisfied: PySocks!=1.5.7,>=1.5.6; extra == \"socks\" in c:\\anaconda3\\lib\\site-packages (from requests[socks]>=2.11.1->tweepy>=3.7.0->konlpy) (1.7.1)\n",
      "Installing collected packages: JPype1, oauthlib, requests-oauthlib, tweepy, beautifulsoup4, konlpy\n",
      "  Attempting uninstall: beautifulsoup4\n",
      "    Found existing installation: beautifulsoup4 4.9.1\n",
      "    Uninstalling beautifulsoup4-4.9.1:\n",
      "      Successfully uninstalled beautifulsoup4-4.9.1\n",
      "Successfully installed JPype1-1.1.2 beautifulsoup4-4.6.0 konlpy-0.5.2 oauthlib-3.1.0 requests-oauthlib-1.3.0 tweepy-3.9.0\n"
     ]
    }
   ],
   "source": [
    "# KoNLPy 설치\n",
    "! pip install konlpy"
   ]
  },
  {
   "cell_type": "markdown",
   "metadata": {},
   "source": [
    "1. Hannanum : analyze, morphs, nouns, POS\n",
    "2. Kkma (꼬꼬마) : morphs, nouns, POS, sentences\n",
    "3. Komoran : morphs, nouns, POS  -> 사용자 딕셔너리 만들 수 있음\n",
    "4. Mecab : morphs, nouns, POS -> windows 지원 X / 리눅스에서 하게 되면 사용\n",
    "5. Okt : morphs, normallize, nouns, phrases, POS -> 트위터같이 인터넷의 글들 (ex.ㅋㅋㅋ) 을 더 잘 분석"
   ]
  }
 ],
 "metadata": {
  "kernelspec": {
   "display_name": "Python 3",
   "language": "python",
   "name": "python3"
  },
  "language_info": {
   "codemirror_mode": {
    "name": "ipython",
    "version": 3
   },
   "file_extension": ".py",
   "mimetype": "text/x-python",
   "name": "python",
   "nbconvert_exporter": "python",
   "pygments_lexer": "ipython3",
   "version": "3.8.3"
  }
 },
 "nbformat": 4,
 "nbformat_minor": 4
}
