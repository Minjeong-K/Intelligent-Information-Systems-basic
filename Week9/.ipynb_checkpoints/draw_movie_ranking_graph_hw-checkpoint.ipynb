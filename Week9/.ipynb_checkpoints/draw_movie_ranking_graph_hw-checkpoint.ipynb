{
 "cells": [
  {
   "cell_type": "markdown",
   "metadata": {},
   "source": [
    "<h1 align='center'>과제3 - 평점 그래프 그리기</h1>\n",
    "\n",
    "<h3 align='end'> 201700255 강민정 </h3>\n",
    "\n",
    "\n",
    "- 2020년 4월 31일 부터 50일간의 영화 평점 그래프\n",
    "- 2010년 1월 1일 부터 2020년 9월 31일까지 매달 말일날의 영화 평점 그래프"
   ]
  },
  {
   "cell_type": "code",
   "execution_count": 1,
   "metadata": {},
   "outputs": [
    {
     "data": {
      "application/vnd.jupyter.widget-view+json": {
       "model_id": "ef9991cd6deb4426b2b76a2f360c0157",
       "version_major": 2,
       "version_minor": 0
      },
      "text/plain": [
       "HBox(children=(FloatProgress(value=0.0, max=50.0), HTML(value='')))"
      ]
     },
     "metadata": {},
     "output_type": "display_data"
    },
    {
     "name": "stdout",
     "output_type": "stream",
     "text": [
      "\n",
      "2500\n"
     ]
    }
   ],
   "source": [
    "import pandas as pd\n",
    "from bs4 import BeautifulSoup\n",
    "from urllib.request import urlopen\n",
    "\n",
    "# tqdm 모듈 : 진행 상황을 바 형태로 표현해줌\n",
    "from tqdm.notebook import tqdm\n",
    "\n",
    "days = 50\n",
    "\n",
    "date_list = pd.date_range('2020-04-01',periods=days,freq='D')\n",
    "\n",
    "movie_title = []\n",
    "movie_point = []\n",
    "movie_date = []\n",
    "\n",
    "for today in tqdm(date_list):\n",
    "    url = \"https://movie.naver.com/movie/sdb/rank/rmovie.nhn?sel=pnt&date=\"+(today.strftime('%Y%m%d'))\n",
    "    html = urlopen(url)\n",
    "\n",
    "    soup = BeautifulSoup(html.read(), \"html.parser\")\n",
    "    \n",
    "    titles = soup.find_all('div',{'class':'tit5'})\n",
    "    points = soup.find_all('td',{'class':'point'})\n",
    "    \n",
    "    titles_text = []\n",
    "    points_text = []\n",
    "    date = []\n",
    "    \n",
    "    for t,p in zip(titles,points):   # 길이가 같아 zip으로 한번에 처리 가능\n",
    "        titles_text.append(t.text.strip('\\n'))\n",
    "        points_text.append(float(p.text))\n",
    "        date.append(today)\n",
    "        \n",
    "    \n",
    "    movie_title += titles_text\n",
    "    movie_point += points_text\n",
    "    movie_date += date\n",
    "\n",
    "print(len(movie_point))"
   ]
  },
  {
   "cell_type": "code",
   "execution_count": 2,
   "metadata": {},
   "outputs": [
    {
     "data": {
      "text/html": [
       "<div>\n",
       "<style scoped>\n",
       "    .dataframe tbody tr th:only-of-type {\n",
       "        vertical-align: middle;\n",
       "    }\n",
       "\n",
       "    .dataframe tbody tr th {\n",
       "        vertical-align: top;\n",
       "    }\n",
       "\n",
       "    .dataframe thead th {\n",
       "        text-align: right;\n",
       "    }\n",
       "</style>\n",
       "<table border=\"1\" class=\"dataframe\">\n",
       "  <thead>\n",
       "    <tr style=\"text-align: right;\">\n",
       "      <th></th>\n",
       "      <th>date</th>\n",
       "      <th>title</th>\n",
       "      <th>point</th>\n",
       "    </tr>\n",
       "  </thead>\n",
       "  <tbody>\n",
       "    <tr>\n",
       "      <th>0</th>\n",
       "      <td>2020-04-01</td>\n",
       "      <td>그린 북</td>\n",
       "      <td>9.60</td>\n",
       "    </tr>\n",
       "    <tr>\n",
       "      <th>1</th>\n",
       "      <td>2020-04-01</td>\n",
       "      <td>가버나움</td>\n",
       "      <td>9.58</td>\n",
       "    </tr>\n",
       "    <tr>\n",
       "      <th>2</th>\n",
       "      <td>2020-04-01</td>\n",
       "      <td>베일리 어게인</td>\n",
       "      <td>9.52</td>\n",
       "    </tr>\n",
       "    <tr>\n",
       "      <th>3</th>\n",
       "      <td>2020-04-01</td>\n",
       "      <td>주전장</td>\n",
       "      <td>9.51</td>\n",
       "    </tr>\n",
       "    <tr>\n",
       "      <th>4</th>\n",
       "      <td>2020-04-01</td>\n",
       "      <td>포드 V 페라리</td>\n",
       "      <td>9.50</td>\n",
       "    </tr>\n",
       "    <tr>\n",
       "      <th>...</th>\n",
       "      <td>...</td>\n",
       "      <td>...</td>\n",
       "      <td>...</td>\n",
       "    </tr>\n",
       "    <tr>\n",
       "      <th>2495</th>\n",
       "      <td>2020-05-20</td>\n",
       "      <td>클레멘타인</td>\n",
       "      <td>9.35</td>\n",
       "    </tr>\n",
       "    <tr>\n",
       "      <th>2496</th>\n",
       "      <td>2020-05-20</td>\n",
       "      <td>모노노케 히메</td>\n",
       "      <td>9.35</td>\n",
       "    </tr>\n",
       "    <tr>\n",
       "      <th>2497</th>\n",
       "      <td>2020-05-20</td>\n",
       "      <td>쉰들러 리스트</td>\n",
       "      <td>9.35</td>\n",
       "    </tr>\n",
       "    <tr>\n",
       "      <th>2498</th>\n",
       "      <td>2020-05-20</td>\n",
       "      <td>달링</td>\n",
       "      <td>9.35</td>\n",
       "    </tr>\n",
       "    <tr>\n",
       "      <th>2499</th>\n",
       "      <td>2020-05-20</td>\n",
       "      <td>세 얼간이</td>\n",
       "      <td>9.35</td>\n",
       "    </tr>\n",
       "  </tbody>\n",
       "</table>\n",
       "<p>2500 rows × 3 columns</p>\n",
       "</div>"
      ],
      "text/plain": [
       "           date     title  point\n",
       "0    2020-04-01      그린 북   9.60\n",
       "1    2020-04-01      가버나움   9.58\n",
       "2    2020-04-01   베일리 어게인   9.52\n",
       "3    2020-04-01       주전장   9.51\n",
       "4    2020-04-01  포드 V 페라리   9.50\n",
       "...         ...       ...    ...\n",
       "2495 2020-05-20     클레멘타인   9.35\n",
       "2496 2020-05-20   모노노케 히메   9.35\n",
       "2497 2020-05-20   쉰들러 리스트   9.35\n",
       "2498 2020-05-20        달링   9.35\n",
       "2499 2020-05-20     세 얼간이   9.35\n",
       "\n",
       "[2500 rows x 3 columns]"
      ]
     },
     "execution_count": 2,
     "metadata": {},
     "output_type": "execute_result"
    }
   ],
   "source": [
    "frame = pd.DataFrame({'date':movie_date, 'title':movie_title, 'point':movie_point})\n",
    "frame"
   ]
  },
  {
   "cell_type": "code",
   "execution_count": 14,
   "metadata": {
    "scrolled": true
   },
   "outputs": [
    {
     "name": "stdout",
     "output_type": "stream",
     "text": [
      "           date       title  point\n",
      "27   2020-04-01  어벤져스: 엔드게임   9.38\n",
      "77   2020-04-02  어벤져스: 엔드게임   9.38\n",
      "127  2020-04-03  어벤져스: 엔드게임   9.38\n",
      "177  2020-04-04  어벤져스: 엔드게임   9.38\n",
      "227  2020-04-05  어벤져스: 엔드게임   9.38\n",
      "277  2020-04-06  어벤져스: 엔드게임   9.38\n",
      "328  2020-04-07  어벤져스: 엔드게임   9.38\n",
      "378  2020-04-08  어벤져스: 엔드게임   9.38\n",
      "428  2020-04-09  어벤져스: 엔드게임   9.38\n",
      "478  2020-04-10  어벤져스: 엔드게임   9.38\n",
      "528  2020-04-11  어벤져스: 엔드게임   9.38\n",
      "578  2020-04-12  어벤져스: 엔드게임   9.38\n",
      "628  2020-04-13  어벤져스: 엔드게임   9.38\n",
      "678  2020-04-14  어벤져스: 엔드게임   9.38\n",
      "728  2020-04-15  어벤져스: 엔드게임   9.38\n",
      "778  2020-04-16  어벤져스: 엔드게임   9.38\n",
      "828  2020-04-17  어벤져스: 엔드게임   9.38\n",
      "878  2020-04-18  어벤져스: 엔드게임   9.38\n",
      "928  2020-04-19  어벤져스: 엔드게임   9.38\n",
      "978  2020-04-20  어벤져스: 엔드게임   9.38\n",
      "1029 2020-04-21  어벤져스: 엔드게임   9.38\n",
      "1079 2020-04-22  어벤져스: 엔드게임   9.38\n",
      "1128 2020-04-23  어벤져스: 엔드게임   9.38\n",
      "1178 2020-04-24  어벤져스: 엔드게임   9.38\n",
      "1228 2020-04-25  어벤져스: 엔드게임   9.38\n",
      "1278 2020-04-26  어벤져스: 엔드게임   9.38\n",
      "1328 2020-04-27  어벤져스: 엔드게임   9.38\n",
      "1378 2020-04-28  어벤져스: 엔드게임   9.38\n",
      "1428 2020-04-29  어벤져스: 엔드게임   9.38\n",
      "1478 2020-04-30  어벤져스: 엔드게임   9.38\n",
      "1529 2020-05-01  어벤져스: 엔드게임   9.38\n",
      "1579 2020-05-02  어벤져스: 엔드게임   9.38\n",
      "1629 2020-05-03  어벤져스: 엔드게임   9.38\n",
      "1679 2020-05-04  어벤져스: 엔드게임   9.38\n",
      "1729 2020-05-05  어벤져스: 엔드게임   9.38\n",
      "1779 2020-05-06  어벤져스: 엔드게임   9.38\n",
      "1829 2020-05-07  어벤져스: 엔드게임   9.38\n",
      "1879 2020-05-08  어벤져스: 엔드게임   9.38\n",
      "1929 2020-05-09  어벤져스: 엔드게임   9.38\n",
      "1979 2020-05-10  어벤져스: 엔드게임   9.38\n",
      "2029 2020-05-11  어벤져스: 엔드게임   9.38\n",
      "2079 2020-05-12  어벤져스: 엔드게임   9.38\n",
      "2130 2020-05-13  어벤져스: 엔드게임   9.38\n",
      "2180 2020-05-14  어벤져스: 엔드게임   9.38\n",
      "2230 2020-05-15  어벤져스: 엔드게임   9.38\n",
      "2279 2020-05-16  어벤져스: 엔드게임   9.38\n",
      "2329 2020-05-17  어벤져스: 엔드게임   9.38\n",
      "2379 2020-05-18  어벤져스: 엔드게임   9.38\n",
      "2429 2020-05-19  어벤져스: 엔드게임   9.38\n",
      "2479 2020-05-20  어벤져스: 엔드게임   9.38\n"
     ]
    }
   ],
   "source": [
    "expr = \"title == '어벤져스: 엔드게임'\"\n",
    "search_movie = frame.query(expr)\n",
    "print(search_movie)"
   ]
  },
  {
   "cell_type": "code",
   "execution_count": 15,
   "metadata": {},
   "outputs": [
    {
     "data": {
      "image/png": "[encoded data removed]",
      "text/plain": [
       "<Figure size 864x576 with 1 Axes>"
      ]
     },
     "metadata": {},
     "output_type": "display_data"
    }
   ],
   "source": [
    "# 그래프 그리기\n",
    "import matplotlib.pyplot as plt\n",
    "\n",
    "plt.rc('font',family='Malgun Gothic') # 한글 넣기 위해 폰트 설정\n",
    "plt.rcParams['axes.unicode_minus']=False\n",
    "plt.style.use(\"ggplot\")\n",
    "\n",
    "plt.figure(figsize=(12,8))\n",
    "plt.title('2020-04-01부터 50일간 사운드 오브 뮤직 평점 그래프')\n",
    "plt.plot(search_movie['date'],search_movie['point'])\n",
    "plt.xlabel('날짜')\n",
    "plt.ylabel('평점')\n",
    "plt.show()"
   ]
  },
  {
   "cell_type": "markdown",
   "metadata": {},
   "source": [
    "### 일별은 생각보다 변화가 많이 없어서 월별로 확인"
   ]
  },
  {
   "cell_type": "code",
   "execution_count": 20,
   "metadata": {},
   "outputs": [
    {
     "data": {
      "text/plain": [
       "DatetimeIndex(['2010-01-31', '2010-02-28', '2010-03-31', '2010-04-30',\n",
       "               '2010-05-31', '2010-06-30', '2010-07-31', '2010-08-31',\n",
       "               '2010-09-30', '2010-10-31',\n",
       "               ...\n",
       "               '2019-11-30', '2019-12-31', '2020-01-31', '2020-02-29',\n",
       "               '2020-03-31', '2020-04-30', '2020-05-31', '2020-06-30',\n",
       "               '2020-07-31', '2020-08-31'],\n",
       "              dtype='datetime64[ns]', length=128, freq='M')"
      ]
     },
     "execution_count": 20,
     "metadata": {},
     "output_type": "execute_result"
    }
   ],
   "source": [
    "date_list = pd.date_range(start='2010-01-01',end='2020-09-01',freq='M')\n",
    "date_list"
   ]
  },
  {
   "cell_type": "code",
   "execution_count": 18,
   "metadata": {},
   "outputs": [
    {
     "data": {
      "application/vnd.jupyter.widget-view+json": {
       "model_id": "7aedb75fb87647c9a2aa0156d5fd54b6",
       "version_major": 2,
       "version_minor": 0
      },
      "text/plain": [
       "HBox(children=(FloatProgress(value=0.0, max=128.0), HTML(value='')))"
      ]
     },
     "metadata": {},
     "output_type": "display_data"
    },
    {
     "name": "stdout",
     "output_type": "stream",
     "text": [
      "\n"
     ]
    }
   ],
   "source": [
    "movie_title = []\n",
    "movie_point = []\n",
    "movie_date = []\n",
    "\n",
    "for today in tqdm(date_list):\n",
    "    url = \"https://movie.naver.com/movie/sdb/rank/rmovie.nhn?sel=pnt&date=\"+(today.strftime('%Y%m%d'))\n",
    "    html = urlopen(url)\n",
    "\n",
    "    soup = BeautifulSoup(html.read(), \"html.parser\")\n",
    "    \n",
    "    titles = soup.find_all('div',{'class':'tit5'})\n",
    "    points = soup.find_all('td',{'class':'point'})\n",
    "    \n",
    "    titles_text = []\n",
    "    points_text = []\n",
    "    date = []\n",
    "    \n",
    "    for t,p in zip(titles,points):   # 길이가 같아 zip으로 한번에 처리 가능\n",
    "        titles_text.append(t.text.strip('\\n'))\n",
    "        points_text.append(float(p.text))\n",
    "        date.append(today)\n",
    "        \n",
    "    \n",
    "    movie_title += titles_text\n",
    "    movie_point += points_text\n",
    "    movie_date += date"
   ]
  },
  {
   "cell_type": "code",
   "execution_count": 19,
   "metadata": {},
   "outputs": [
    {
     "name": "stdout",
     "output_type": "stream",
     "text": [
      "           date   title  point\n",
      "94   2010-02-28  살인의 추억   9.23\n",
      "142  2010-03-31  살인의 추억   9.24\n",
      "191  2010-04-30  살인의 추억   9.24\n",
      "248  2010-05-31  살인의 추억   9.24\n",
      "345  2010-07-31  살인의 추억   9.24\n",
      "...         ...     ...    ...\n",
      "6164 2020-04-30  살인의 추억   9.40\n",
      "6214 2020-05-31  살인의 추억   9.40\n",
      "6266 2020-06-30  살인의 추억   9.40\n",
      "6319 2020-07-31  살인의 추억   9.40\n",
      "6372 2020-08-31  살인의 추억   9.40\n",
      "\n",
      "[96 rows x 3 columns]\n"
     ]
    }
   ],
   "source": [
    "frame = pd.DataFrame({'date':movie_date, 'title':movie_title, 'point':movie_point})\n",
    "\n",
    "expr = \"title == '살인의 추억'\"\n",
    "search_movie = frame.query(expr)\n",
    "print(search_movie)"
   ]
  },
  {
   "cell_type": "code",
   "execution_count": 21,
   "metadata": {},
   "outputs": [
    {
     "data": {
      "image/png": "[encoded data removed]",
      "text/plain": [
       "<Figure size 864x576 with 1 Axes>"
      ]
     },
     "metadata": {},
     "output_type": "display_data"
    }
   ],
   "source": [
    "# 그래프 그리기\n",
    "import matplotlib.pyplot as plt\n",
    "\n",
    "plt.rc('font',family='Malgun Gothic') # 한글 넣기 위해 폰트 설정\n",
    "plt.rcParams['axes.unicode_minus']=False\n",
    "plt.style.use(\"ggplot\")\n",
    "\n",
    "plt.figure(figsize=(12,8))\n",
    "plt.title('2010-01-01 부터 2020-08-31 까지의 살인의 추억 평점 그래프')\n",
    "plt.plot(search_movie['date'],search_movie['point'])\n",
    "plt.xlabel('날짜')\n",
    "plt.ylabel('평점')\n",
    "plt.show()"
   ]
  }
 ],
 "metadata": {
  "kernelspec": {
   "display_name": "Python 3",
   "language": "python",
   "name": "python3"
  },
  "language_info": {
   "codemirror_mode": {
    "name": "ipython",
    "version": 3
   },
   "file_extension": ".py",
   "mimetype": "text/x-python",
   "name": "python",
   "nbconvert_exporter": "python",
   "pygments_lexer": "ipython3",
   "version": "3.8.3"
  }
 },
 "nbformat": 4,
 "nbformat_minor": 4
}
