{
 "cells": [
  {
   "cell_type": "markdown",
   "metadata": {},
   "source": [
    "# 데이터 분석 python 라이브러리\n",
    "\n",
    "### 1. Matplotlib\n",
    "- 지금까지 배움\n",
    "- Matplotlib -> (확장) -> seaborn\n",
    "\n",
    "### 2. Numpy\n",
    "- Numerical Python 의 줄임말\n",
    "- 행렬, 수치, 계산 등 데이터를 다루기 쉽게 도와줌\n",
    "\n",
    "### 3. Pandas\n",
    "- Panel Datas 의 줄임말\n",
    "- 테이블 형태의 데이터를 다루기 쉽게 도와주는 라이브러리\n",
    "- csv, html, sql 등 다양한 데이터를 읽을 수 있음"
   ]
  },
  {
   "cell_type": "markdown",
   "metadata": {},
   "source": [
    "## Numpy 란?\n",
    "\n",
    "- numpy는 수치 데이터를 다루기 위한 라이브러리\n",
    "    - (다차원 배열 구조인 ndarray 를 이용하여) 행렬/백터 및 수치 연산을 빠르게 하는 것이 핵심\n",
    "\n",
    "- list 와 numpy array 의 연산 속도 차이는 30~40배까지 나기도 함\n",
    "    - C언어로 구현된 파이썬 라이브러리라서 겁나 빠름\n",
    "    \n",
    "- **데이터의 크기가 커질수록 numpy 필수!**"
   ]
  },
  {
   "cell_type": "markdown",
   "metadata": {},
   "source": [
    "## 차원\n",
    "\n",
    "- **중첩리스트** : 리스트 안의 리스트\n",
    "\n",
    "- **차원** : 중첩된 정도를 구분하기 위한 단위\n",
    "\n",
    "- 일반적인 리스트는 중첩 데이터를 처리하는게 느리고 복잡함 -> **numpy 라이브러리 사용!**"
   ]
  },
  {
   "cell_type": "markdown",
   "metadata": {},
   "source": [
    "### - 1차원 배열 생성\n",
    "\n",
    "- np.array() 는 리스트, 튜플, 배열로 부터 ndarray 생성"
   ]
  },
  {
   "cell_type": "code",
   "execution_count": 1,
   "metadata": {},
   "outputs": [],
   "source": [
    "# numpy 라이브러리 import\n",
    "import numpy as np"
   ]
  },
  {
   "cell_type": "code",
   "execution_count": 2,
   "metadata": {},
   "outputs": [
    {
     "name": "stdout",
     "output_type": "stream",
     "text": [
      "<class 'numpy.ndarray'>\n",
      "[1 2 3 4 5]\n"
     ]
    }
   ],
   "source": [
    "# 1차원 배열 생성하기\n",
    "a = np.array([1,2,3,4,5])\n",
    "print(type(a))\n",
    "print(a)"
   ]
  },
  {
   "cell_type": "markdown",
   "metadata": {},
   "source": [
    "### - 2차원 배열 생성"
   ]
  },
  {
   "cell_type": "code",
   "execution_count": 3,
   "metadata": {},
   "outputs": [
    {
     "name": "stdout",
     "output_type": "stream",
     "text": [
      "<class 'numpy.ndarray'>\n",
      "[[1 2 3]\n",
      " [4 5 6]]\n"
     ]
    }
   ],
   "source": [
    "# 2차원 배열 생성하기\n",
    "b = np.array([[1,2,3],[4,5,6]])\n",
    "print(type(b))\n",
    "print(b)"
   ]
  },
  {
   "cell_type": "code",
   "execution_count": 4,
   "metadata": {},
   "outputs": [
    {
     "name": "stdout",
     "output_type": "stream",
     "text": [
      "<class 'numpy.ndarray'>\n",
      "[[1 2 3]\n",
      " [4 5 6]]\n"
     ]
    }
   ],
   "source": [
    "# 변수를 사용하여 2차원 배열 생성\n",
    "i_list = [[1,2,3],[4,5,6]]\n",
    "b = np.array(i_list)\n",
    "print(type(b))\n",
    "print(b)"
   ]
  },
  {
   "cell_type": "markdown",
   "metadata": {},
   "source": [
    "### - 배열의 차원 및 크기 확인"
   ]
  },
  {
   "cell_type": "code",
   "execution_count": 5,
   "metadata": {},
   "outputs": [
    {
     "name": "stdout",
     "output_type": "stream",
     "text": [
      "2\n",
      "(2, 3)\n"
     ]
    }
   ],
   "source": [
    "# 배열의 차원 및 크기 확인\n",
    "# ndim 및 shape 속성으로 출력하기\n",
    "print(b.ndim)\n",
    "print(b.shape)"
   ]
  },
  {
   "cell_type": "code",
   "execution_count": 6,
   "metadata": {},
   "outputs": [
    {
     "name": "stdout",
     "output_type": "stream",
     "text": [
      "1\n",
      "(5,)\n"
     ]
    }
   ],
   "source": [
    "print(a.ndim)\n",
    "print(a.shape)"
   ]
  },
  {
   "cell_type": "markdown",
   "metadata": {},
   "source": [
    "## ndarray 초기화 방법\n",
    "- list 를 이용하여 ndarray 생성\n",
    "\n",
    "\n",
    "- 그 외\n",
    "\n",
    "\n",
    "**np.zeros((a,b))** : 모든 값이 0인 a x b 크기의 배열 생성\n",
    "\n",
    "numpy.zeros(shape, dtype=float, order='C')"
   ]
  },
  {
   "cell_type": "code",
   "execution_count": 10,
   "metadata": {},
   "outputs": [
    {
     "data": {
      "text/plain": [
       "array([[0., 0., 0.],\n",
       "       [0., 0., 0.]])"
      ]
     },
     "execution_count": 10,
     "metadata": {},
     "output_type": "execute_result"
    }
   ],
   "source": [
    "# 모든 값이 0 인 2x3 배열 생성\n",
    "a = np.zeros((2,3))\n",
    "a"
   ]
  },
  {
   "cell_type": "markdown",
   "metadata": {},
   "source": [
    "**np.ones((a,b))** : 모든 값이 1인 a x b 크기의 배열 생성\n",
    "\n",
    "numpy.zeros(shape, dtype=None, order='C')"
   ]
  },
  {
   "cell_type": "code",
   "execution_count": 12,
   "metadata": {},
   "outputs": [
    {
     "data": {
      "text/plain": [
       "array([[1., 1., 1.],\n",
       "       [1., 1., 1.]])"
      ]
     },
     "execution_count": 12,
     "metadata": {},
     "output_type": "execute_result"
    }
   ],
   "source": [
    "# 모든 값이 1 인 2x3 배열 생성\n",
    "a = np.ones((2,3))\n",
    "a"
   ]
  },
  {
   "cell_type": "markdown",
   "metadata": {},
   "source": [
    "**np.full((a,b),c)** : 모든 값이 c인 a x b 배열 생성\n",
    "\n",
    "numpy.full(shape, fill_value, dtype=None, order='C')"
   ]
  },
  {
   "cell_type": "code",
   "execution_count": 19,
   "metadata": {},
   "outputs": [
    {
     "data": {
      "text/plain": [
       "array([[5, 5, 5],\n",
       "       [5, 5, 5]])"
      ]
     },
     "execution_count": 19,
     "metadata": {},
     "output_type": "execute_result"
    }
   ],
   "source": [
    "# 모든 값이 5인 2x3 배열 생성\n",
    "a = np.full((2,3),5)\n",
    "a"
   ]
  },
  {
   "cell_type": "code",
   "execution_count": 20,
   "metadata": {},
   "outputs": [
    {
     "data": {
      "text/plain": [
       "array([[5, 5, 5],\n",
       "       [5, 5, 5]], dtype=int8)"
      ]
     },
     "execution_count": 20,
     "metadata": {},
     "output_type": "execute_result"
    }
   ],
   "source": [
    "# dtype 설정 : np.int8\n",
    "b = np.full((2,3),5, dtype=np.int8)\n",
    "b"
   ]
  },
  {
   "cell_type": "code",
   "execution_count": 21,
   "metadata": {},
   "outputs": [
    {
     "data": {
      "text/plain": [
       "array([[5., 5., 5.],\n",
       "       [5., 5., 5.]])"
      ]
     },
     "execution_count": 21,
     "metadata": {},
     "output_type": "execute_result"
    }
   ],
   "source": [
    "# dtype 설정 : np.float64\n",
    "c = np.full((2,3),5, dtype=np.float64)\n",
    "c"
   ]
  },
  {
   "cell_type": "code",
   "execution_count": 23,
   "metadata": {},
   "outputs": [
    {
     "data": {
      "text/plain": [
       "array([[1.5, 1.5, 1.5],\n",
       "       [1.5, 1.5, 1.5]])"
      ]
     },
     "execution_count": 23,
     "metadata": {},
     "output_type": "execute_result"
    }
   ],
   "source": [
    "# 모든 값이 1.5인 2x3 배열 생성\n",
    "d = np.full((2,3),1.5)\n",
    "d"
   ]
  },
  {
   "cell_type": "markdown",
   "metadata": {},
   "source": [
    "**np.eye(a)** : 대각선 값은 1이고 나머지는 0인 a x a 크기의 2차원 배열 생성\n",
    "\n",
    "**np.eye(a,b)** : a x b 크기의 2차원 배열 생성\n",
    "\n",
    "numpy.eye(N, M=None, k=0, dtype=<class 'float'>, order='C')"
   ]
  },
  {
   "cell_type": "code",
   "execution_count": 24,
   "metadata": {},
   "outputs": [
    {
     "data": {
      "text/plain": [
       "array([[1., 0., 0.],\n",
       "       [0., 1., 0.],\n",
       "       [0., 0., 1.]])"
      ]
     },
     "execution_count": 24,
     "metadata": {},
     "output_type": "execute_result"
    }
   ],
   "source": [
    "# 대각선 값은 1이고 나머지는 0인 3x3 크기의 2차원 배열 생성\n",
    "a = np.eye(3)\n",
    "a"
   ]
  },
  {
   "cell_type": "code",
   "execution_count": 25,
   "metadata": {},
   "outputs": [
    {
     "data": {
      "text/plain": [
       "array([[1., 0., 0., 0.],\n",
       "       [0., 1., 0., 0.],\n",
       "       [0., 0., 1., 0.]])"
      ]
     },
     "execution_count": 25,
     "metadata": {},
     "output_type": "execute_result"
    }
   ],
   "source": [
    "# 대각선 값은 1이고 나머지는 0인 3x4 크기의 2차원 배열 생성\n",
    "a = np.eye(3,4)\n",
    "a"
   ]
  },
  {
   "cell_type": "markdown",
   "metadata": {},
   "source": [
    "**np.random.randn(a,b)** : 임의의 값으로 채워진 axb 크기의 배열 생성"
   ]
  },
  {
   "cell_type": "code",
   "execution_count": 26,
   "metadata": {},
   "outputs": [
    {
     "data": {
      "text/plain": [
       "array([[ 2.2802272 , -1.59627189, -0.69372046],\n",
       "       [-0.80970777,  1.7480441 , -0.16946145]])"
      ]
     },
     "execution_count": 26,
     "metadata": {},
     "output_type": "execute_result"
    }
   ],
   "source": [
    "# 임의의 값으로 채워진 2x3 배열\n",
    "np.random.randn(2,3)"
   ]
  },
  {
   "cell_type": "markdown",
   "metadata": {},
   "source": [
    "## 슬라이싱(Slicing)\n",
    "\n",
    "- ndarray 를 통해 만든 다차원 배열은 list 처럼 슬라이스 기능 지원\n",
    "    - 슬라이스 기능을 사용하여 여러개의 원소에 접근 할 수 있음\n",
    "    \n",
    "- 각 차원별로 슬라이스 범위 지정"
   ]
  },
  {
   "cell_type": "code",
   "execution_count": 27,
   "metadata": {},
   "outputs": [
    {
     "data": {
      "text/plain": [
       "array([1, 2])"
      ]
     },
     "execution_count": 27,
     "metadata": {},
     "output_type": "execute_result"
    }
   ],
   "source": [
    "a = np.array([1,2,3])\n",
    "b = a[0:2]\n",
    "b"
   ]
  },
  {
   "cell_type": "code",
   "execution_count": 28,
   "metadata": {},
   "outputs": [
    {
     "data": {
      "text/plain": [
       "array([[1, 2],\n",
       "       [4, 5]])"
      ]
     },
     "execution_count": 28,
     "metadata": {},
     "output_type": "execute_result"
    }
   ],
   "source": [
    "a = np.array([[1,2,3],[4,5,6]])\n",
    "b = a[0:2,0:2]\n",
    "b"
   ]
  },
  {
   "cell_type": "markdown",
   "metadata": {},
   "source": [
    "## Numpy 연산\n",
    "\n",
    "- ndarray 로 만든 자료형은 자유롭게 사칙연산 가능\n",
    "    - 배열간 연산을 손쉽게 수행할 수 있음\n",
    "\n",
    "1) +, -, *, / 연산자 사용\n",
    "\n",
    "2) add(), substract(), multiply(), divide() 함수 사용"
   ]
  },
  {
   "cell_type": "code",
   "execution_count": 29,
   "metadata": {},
   "outputs": [],
   "source": [
    "a = np.array([1,2,3])\n",
    "b = np.array([4,5,6])"
   ]
  },
  {
   "cell_type": "code",
   "execution_count": 30,
   "metadata": {},
   "outputs": [
    {
     "data": {
      "text/plain": [
       "array([5, 7, 9])"
      ]
     },
     "execution_count": 30,
     "metadata": {},
     "output_type": "execute_result"
    }
   ],
   "source": [
    "# 동일한 인덱스에 위치한 요소끼리 덧셈\n",
    "# c = np.add(a,b)와 동일\n",
    "c = a+ b\n",
    "c"
   ]
  },
  {
   "cell_type": "code",
   "execution_count": 31,
   "metadata": {},
   "outputs": [
    {
     "data": {
      "text/plain": [
       "array([-3, -3, -3])"
      ]
     },
     "execution_count": 31,
     "metadata": {},
     "output_type": "execute_result"
    }
   ],
   "source": [
    "# 동일한 인덱스에 위치한 요소끼리 뺄셈\n",
    "# c = np.substract(a,b)와 동일\n",
    "c = a - b\n",
    "c"
   ]
  },
  {
   "cell_type": "code",
   "execution_count": 32,
   "metadata": {},
   "outputs": [
    {
     "data": {
      "text/plain": [
       "array([ 4, 10, 18])"
      ]
     },
     "execution_count": 32,
     "metadata": {},
     "output_type": "execute_result"
    }
   ],
   "source": [
    "# 동일한 인덱스에 위치한 요소끼리 곱셈\n",
    "# c = np.n=multiply(a,b)와 동일\n",
    "c = a * b\n",
    "c"
   ]
  },
  {
   "cell_type": "code",
   "execution_count": 33,
   "metadata": {},
   "outputs": [
    {
     "data": {
      "text/plain": [
       "array([0.25, 0.4 , 0.5 ])"
      ]
     },
     "execution_count": 33,
     "metadata": {},
     "output_type": "execute_result"
    }
   ],
   "source": [
    "# 동일한 인덱스에 위치한 요소끼리 나눗셈\n",
    "# c = np.divide(a,b)와 동일\n",
    "c = a / b\n",
    "c"
   ]
  },
  {
   "cell_type": "markdown",
   "metadata": {},
   "source": [
    "## Numpy array 와 list 차이\n",
    "\n",
    "### 차이 1) 사칙연산\n",
    "- Numpy array 는 Numpy array 끼리 사칙연산이 가능하지만 Python list는 덧셈만 가능\n",
    "    - numpy array + numpy array : 같은 인덱스에 있는 값끼리 더해짐\n",
    "    - list + list : 두 리스트가 한 리스트로 합쳐짐(이어짐)"
   ]
  },
  {
   "cell_type": "code",
   "execution_count": 35,
   "metadata": {},
   "outputs": [
    {
     "data": {
      "text/plain": [
       "array([5, 7, 9])"
      ]
     },
     "execution_count": 35,
     "metadata": {},
     "output_type": "execute_result"
    }
   ],
   "source": [
    "# numpy array 의 덧셈\n",
    "np_a = np.array([1,2,3])\n",
    "np_b = np.array([3,4,5])\n",
    "a+b"
   ]
  },
  {
   "cell_type": "code",
   "execution_count": 36,
   "metadata": {},
   "outputs": [
    {
     "data": {
      "text/plain": [
       "[1, 2, 3, 3, 4, 5]"
      ]
     },
     "execution_count": 36,
     "metadata": {},
     "output_type": "execute_result"
    }
   ],
   "source": [
    "# python list의 덧셈\n",
    "a = [1,2,3]\n",
    "b = [3,4,5]\n",
    "a+b"
   ]
  },
  {
   "cell_type": "markdown",
   "metadata": {},
   "source": [
    "### 차이 2) 곱셈\n",
    "- numpy array * 숫자 : 요소 각각에 연산 적용\n",
    "- list : list의 요소 반복"
   ]
  },
  {
   "cell_type": "code",
   "execution_count": 38,
   "metadata": {},
   "outputs": [
    {
     "data": {
      "text/plain": [
       "array([3, 6, 9])"
      ]
     },
     "execution_count": 38,
     "metadata": {},
     "output_type": "execute_result"
    }
   ],
   "source": [
    "# numpy array * 3\n",
    "np_a = np.array([1,2,3])\n",
    "np_a*3"
   ]
  },
  {
   "cell_type": "code",
   "execution_count": 39,
   "metadata": {},
   "outputs": [
    {
     "data": {
      "text/plain": [
       "[1, 2, 3, 1, 2, 3, 1, 2, 3]"
      ]
     },
     "execution_count": 39,
     "metadata": {},
     "output_type": "execute_result"
    }
   ],
   "source": [
    "# python list * 3\n",
    "a = [1,2,3]\n",
    "a * 3"
   ]
  },
  {
   "cell_type": "markdown",
   "metadata": {},
   "source": [
    "### 차이 3) 성능차이\n",
    "\n",
    "- Python list 에 비해 문법이 간단하고 성능이 뛰어남\n",
    "    - 예를 들어 1 억 개의 요소가 있는 기본 python list 에 곱하기 2 를 하려면\n",
    "        - 반복문을 1 억 번 돌려야 함\n",
    "        ``` for i in range(1억):i*2```\n",
    "    - numpy array 는 그냥 * 2 만 붙여주면 됨\n",
    "\n",
    "**성능 차이가 나는 이유 ?**\n",
    "- 값들이 저장되는 방식에 차이\n",
    "    - python list 는 다양한 자료형을 저장 가능\n",
    "    - numpy array 는 같은 자료형만 저장 가능"
   ]
  },
  {
   "cell_type": "markdown",
   "metadata": {},
   "source": [
    "## 결론\n",
    "**python list** : 값을 추가하고 제거할 때 사용\n",
    "\n",
    "**numpy list** : 수치 계산이 많고 복잡할 때 혹은 행렬 같은 다차원 배열을 쓸 때 사용"
   ]
  },
  {
   "cell_type": "code",
   "execution_count": null,
   "metadata": {},
   "outputs": [],
   "source": []
  }
 ],
 "metadata": {
  "kernelspec": {
   "display_name": "Python 3",
   "language": "python",
   "name": "python3"
  },
  "language_info": {
   "codemirror_mode": {
    "name": "ipython",
    "version": 3
   },
   "file_extension": ".py",
   "mimetype": "text/x-python",
   "name": "python",
   "nbconvert_exporter": "python",
   "pygments_lexer": "ipython3",
   "version": "3.8.3"
  }
 },
 "nbformat": 4,
 "nbformat_minor": 4
}
