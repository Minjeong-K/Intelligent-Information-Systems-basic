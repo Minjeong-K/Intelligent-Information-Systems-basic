{
 "cells": [
  {
   "cell_type": "markdown",
   "metadata": {},
   "source": [
    "<h1 align='center'> 지능정보시스템 중간대체과제 </h1>\n",
    "\n",
    "<h2 align='end'> 201700255 강민정 </h2>"
   ]
  },
  {
   "cell_type": "markdown",
   "metadata": {},
   "source": [
    "## 1. csv 파일 읽기 & 그래프 그리기\n",
    "\n",
    "- 선택한 csv 파일\n",
    "    - **도로교통공단_가해운전자 시간대별 가해운전자 차종별 교통사고(2019).csv**\n",
    "    - **도로교통공단_가해운전자 월별 가해운전자 차종별 교통사고(2019).csv**\n",
    "    - 선택한 이유 : 최근 교통사고 뉴스를 유독 많이 접했습니다. 특히 을왕리에서의 사고와 현재 제가 살고 있는 곳인 인천 논현에서 일어난 큰 사고에 대한 뉴스는 피해자에 대한 안타까운 마음과 함께 청원글도 따로 살펴보며 이후 교통사고 뉴스에 대해 더욱 관심을 가지고 보게 되었습니다. 이번 과제를 통해 교통사고 데이터를 살펴보며 우리나라의 교통사고의 경향을 살펴보는 기회가 되면 좋을 것 같아 위 데이터를 선택하게 되었습니다."
   ]
  },
  {
   "cell_type": "code",
   "execution_count": 1,
   "metadata": {
    "scrolled": true
   },
   "outputs": [
    {
     "name": "stdout",
     "output_type": "stream",
     "text": [
      "['가해자연령층', '시간대', '사고건수', '사망자수', '중상자수', '경상자수', '부상신고자수']\n"
     ]
    }
   ],
   "source": [
    "import csv\n",
    "\n",
    "# csv 데이터 확인\n",
    "f = open('도로교통공단_가해운전자 연령층별 시간대별 교통사고(2019).csv','r')\n",
    "data = csv.reader(f)\n",
    "\n",
    "header = next(data)\n",
    "print(header)\n",
    "\n",
    "# for row in data:\n",
    "#     print(row,end='')\n",
    "\n",
    "f.close()"
   ]
  },
  {
   "cell_type": "code",
   "execution_count": 2,
   "metadata": {
    "scrolled": true
   },
   "outputs": [
    {
     "name": "stdout",
     "output_type": "stream",
     "text": [
      "['가해자연령층', '월', '사고건수', '사망자수', '중상자수', '경상자수', '부상신고자수']\n"
     ]
    }
   ],
   "source": [
    "# csv 데이터 확인\n",
    "f = open('도로교통공단_가해운전자 연령층별 월별 교통사고(2019).csv','r')\n",
    "data = csv.reader(f)\n",
    "\n",
    "header = next(data)\n",
    "print(header)\n",
    "\n",
    "# for row in data:\n",
    "#     print(row,end='')\n",
    "\n",
    "f.close()"
   ]
  },
  {
   "cell_type": "markdown",
   "metadata": {},
   "source": [
    "### 데이터 분석 및 그래프 유형 정하기\n",
    "- **header** : 가해자연령층, 시간대/월, 사고건수, 사망자수, 중상자수, 경상자수, 부상신고자수\n",
    "    - 가해자 시간대/월별 사고건수 -> 꺾은선 그래프로 비교\n",
    "    - 가해자 연령대 별 사고건수 -> 막대 그래프로 비교"
   ]
  },
  {
   "cell_type": "code",
   "execution_count": 3,
   "metadata": {},
   "outputs": [
    {
     "name": "stdout",
     "output_type": "stream",
     "text": [
      "['20세이하', '21-30세', '31-40세', '41-50세', '51-60세', '61-64세', '65세이상', '불명']\n",
      "['00시-02시', '02시-04시', '04시-06시', '06시-08시', '08시-10시', '10시-12시', '12시-14시', '14시-16시', '16시-18시', '18시-20시', '20시-22시', '22시-24시']\n",
      "['01월', '02월', '03월', '04월', '05월', '06월', '07월', '08월', '09월', '10월', '11월', '12월']\n"
     ]
    }
   ],
   "source": [
    "# 데이터를 리스트로 정리\n",
    "\n",
    "f1 = open('도로교통공단_가해운전자 연령층별 시간대별 교통사고(2019).csv','r')\n",
    "f2 = open('도로교통공단_가해운전자 연령층별 월별 교통사고(2019).csv','r')\n",
    "\n",
    "data1 = csv.reader(f1)\n",
    "data2 = csv.reader(f2)\n",
    "\n",
    "header1 = next(data1)\n",
    "header2 = next(data2)\n",
    "\n",
    "ages=[]\n",
    "slots=[]\n",
    "months=[]\n",
    "\n",
    "# 연령층, 시간대, 월 리스트에 저장\n",
    "for row in data1:\n",
    "    if row[0] not in ages:\n",
    "        ages.append(row[0])\n",
    "    if row[1] not in slots:\n",
    "        slots.append(row[1])\n",
    "for row in data2:\n",
    "    if row[1] not in months:\n",
    "        months.append(row[1])\n",
    "        \n",
    "print(ages)\n",
    "print(slots)\n",
    "print(months)\n",
    "\n",
    "f1.close()\n",
    "f2.close()"
   ]
  },
  {
   "cell_type": "code",
   "execution_count": 4,
   "metadata": {},
   "outputs": [],
   "source": [
    "# 연령층, 시간대, 월 별 사고건 수 딕셔너리 생성\n",
    "ageGroup = dict.fromkeys(ages,0)\n",
    "slotGroup = dict.fromkeys(slots,0)\n",
    "monthGroup = dict.fromkeys(months,0)"
   ]
  },
  {
   "cell_type": "code",
   "execution_count": 5,
   "metadata": {},
   "outputs": [
    {
     "name": "stdout",
     "output_type": "stream",
     "text": [
      "{'20세이하': 7231, '21-30세': 30631, '31-40세': 34978, '41-50세': 43769, '51-60세': 55814, '61-64세': 19847, '65세이상': 33239, '불명': 4091}\n",
      "{'00시-02시': 9708, '02시-04시': 5703, '04시-06시': 6359, '06시-08시': 13178, '08시-10시': 23971, '10시-12시': 22271, '12시-14시': 24044, '14시-16시': 25910, '16시-18시': 29159, '18시-20시': 31923, '20시-22시': 21667, '22시-24시': 15707}\n",
      "{'01월': 16552, '02월': 14752, '03월': 18133, '04월': 19104, '05월': 20779, '06월': 18968, '07월': 19234, '08월': 19992, '09월': 19331, '10월': 21690, '11월': 21517, '12월': 19548}\n"
     ]
    }
   ],
   "source": [
    "f1 = open('도로교통공단_가해운전자 연령층별 시간대별 교통사고(2019).csv','r')\n",
    "f2 = open('도로교통공단_가해운전자 연령층별 월별 교통사고(2019).csv','r')\n",
    "\n",
    "data1 = csv.reader(f1)\n",
    "data2 = csv.reader(f2)\n",
    "\n",
    "header1 = next(data1)\n",
    "header2 = next(data2)\n",
    "\n",
    "# 연령층, 시간대, 월 별 사고건 수 딕셔너리에 저장\n",
    "for row in data1:\n",
    "    age = row[0]\n",
    "    slot = row[1]\n",
    "    ageGroup[age] += int(row[2])       # row[2] : 사고건수 저장\n",
    "    slotGroup[slot] += int(row[2])     # row[2] : 사고건수 저장\n",
    "for row in data2:\n",
    "    month = row[1]\n",
    "    monthGroup[month] += int(row[2])   # row[2] : 사고건수 저장\n",
    "        \n",
    "print(ageGroup)\n",
    "print(slotGroup)\n",
    "print(monthGroup)\n",
    "\n",
    "f1.close()\n",
    "f2.close()"
   ]
  },
  {
   "cell_type": "code",
   "execution_count": 6,
   "metadata": {
    "scrolled": false
   },
   "outputs": [
    {
     "data": {
      "image/png": "[encoded data removed]",
      "text/plain": [
       "<Figure size 432x288 with 1 Axes>"
      ]
     },
     "metadata": {
      "needs_background": "light"
     },
     "output_type": "display_data"
    }
   ],
   "source": [
    "import matplotlib.pyplot as plt\n",
    "\n",
    "ages = list(ageGroup.keys())\n",
    "values = list(ageGroup.values())\n",
    "\n",
    "plt.rcParams['axes.unicode_minus']=False  # 마이너스 부호가 표현되지 않는 경우\n",
    "plt.rc('font',family='Malgun Gothic') # 한글 넣기 위해 폰트 설정\n",
    "\n",
    "plt.title('가해자 연령대별 사고 건수')\n",
    "plt.bar(ages, values, color='#c78d8d') # 내가 원하는 색 코드 입력\n",
    "plt.xlabel('연령')\n",
    "plt.ylabel('사고 건수')\n",
    "\n",
    "plt.show()"
   ]
  },
  {
   "cell_type": "code",
   "execution_count": 7,
   "metadata": {},
   "outputs": [
    {
     "data": {
      "image/png": "[encoded data removed]",
      "text/plain": [
       "<Figure size 432x288 with 1 Axes>"
      ]
     },
     "metadata": {},
     "output_type": "display_data"
    }
   ],
   "source": [
    "slots = list(slotGroup.keys())\n",
    "values = list(slotGroup.values())\n",
    "\n",
    "plt.style.use('ggplot') # 스타일 설정\n",
    "\n",
    "plt.title('시간대별 사고 건수')\n",
    "plt.plot(slots, values, color='darkblue')\n",
    "plt.xticks(rotation = 40)    # x축 눈금 레이블이 갈어 잘 보이지 않아 회전\n",
    "plt.xlabel('시간대')\n",
    "plt.ylabel('사고 건수')\n",
    "\n",
    "plt.show()"
   ]
  },
  {
   "cell_type": "code",
   "execution_count": 8,
   "metadata": {},
   "outputs": [
    {
     "data": {
      "image/png": "[encoded data removed]",
      "text/plain": [
       "<Figure size 432x288 with 1 Axes>"
      ]
     },
     "metadata": {},
     "output_type": "display_data"
    }
   ],
   "source": [
    "months = list(monthGroup.keys())\n",
    "values = list(monthGroup.values())\n",
    "\n",
    "plt.title('월별 사고 건수')\n",
    "plt.plot(months, values, color='red')\n",
    "plt.xticks(rotation = 10)\n",
    "plt.xlabel('월')\n",
    "plt.ylabel('사고 건수')\n",
    "\n",
    "plt.show()"
   ]
  },
  {
   "cell_type": "markdown",
   "metadata": {},
   "source": [
    "### 그래프 해석\n",
    "연령대별 교통사고 건수의 차이를 살펴보기 위해 막대그래프를 그려보았고, 시간대별, 월별 교통사고 건수의 차이와 변화를 살펴보기 위해 꺾은선 그래프를 그렸다.\n",
    "1. 가해자 연령대별 교통사고 건수를 살펴보면 51-60세 의 교통사고 건수가 가장 많았고, 20세 이하의 교통사고 건수가 가장 적었다.\n",
    "2. 시간대별 교통사고 건수를 살펴보면 18-20시 의 교통사고 건수가 가장 많았고, 02시-04시의 교통사고 건수가 가장 적었다. 그래프를 보면 8-10시까지 사고가 증가하다가 살짝 감소한 뒤 18-20시에 사고가 증가한다. 이후 사고 건수는 감소하는 경향을 보이고 있다. \n",
    "3. 작년 월별 교통사고 건수를 살펴보니 10월이 교통사고 건수가 가장 많았고, 2월의 교통사고 건수가 가장 적었다."
   ]
  },
  {
   "cell_type": "markdown",
   "metadata": {},
   "source": [
    "## 2. html 안의 테이블 데이터 읽기\n",
    "- 선택한 table 데이터 : 대한민국의 교통 사고\n",
    "    - 선택한 이유 : 위의 csv 파일에는 없는 연도 별 교통사고 데이터를 확인해보고 싶었다.\n",
    "    - 테이블 데이터를 가져온 사이트  https://ko.wikipedia.org/wiki/%EB%8C%80%ED%95%9C%EB%AF%BC%EA%B5%AD%EC%9D%98_%EA%B5%90%ED%86%B5_%EC%82%AC%EA%B3%A0"
   ]
  },
  {
   "cell_type": "code",
   "execution_count": 9,
   "metadata": {},
   "outputs": [],
   "source": [
    "import pandas as pd"
   ]
  },
  {
   "cell_type": "code",
   "execution_count": 10,
   "metadata": {},
   "outputs": [],
   "source": [
    "url = 'https://ko.wikipedia.org/wiki/%EB%8C%80%ED%95%9C%EB%AF%BC%EA%B5%AD%EC%9D%98_%EA%B5%90%ED%86%B5_%EC%82%AC%EA%B3%A0'\n",
    "\n",
    "df = pd.read_html(url)\n",
    "# df"
   ]
  },
  {
   "cell_type": "code",
   "execution_count": 11,
   "metadata": {},
   "outputs": [
    {
     "data": {
      "text/html": [
       "<div>\n",
       "<style scoped>\n",
       "    .dataframe tbody tr th:only-of-type {\n",
       "        vertical-align: middle;\n",
       "    }\n",
       "\n",
       "    .dataframe tbody tr th {\n",
       "        vertical-align: top;\n",
       "    }\n",
       "\n",
       "    .dataframe thead th {\n",
       "        text-align: right;\n",
       "    }\n",
       "</style>\n",
       "<table border=\"1\" class=\"dataframe\">\n",
       "  <thead>\n",
       "    <tr style=\"text-align: right;\">\n",
       "      <th></th>\n",
       "      <th>년도</th>\n",
       "      <th>사고건수</th>\n",
       "      <th>사망자수</th>\n",
       "      <th>부상자수</th>\n",
       "      <th>비고</th>\n",
       "    </tr>\n",
       "  </thead>\n",
       "  <tbody>\n",
       "    <tr>\n",
       "      <th>0</th>\n",
       "      <td>1970년</td>\n",
       "      <td>37,243건</td>\n",
       "      <td>3,069명</td>\n",
       "      <td>42,830명</td>\n",
       "      <td>NaN</td>\n",
       "    </tr>\n",
       "    <tr>\n",
       "      <th>1</th>\n",
       "      <td>1975년</td>\n",
       "      <td>58,323건</td>\n",
       "      <td>3,800명</td>\n",
       "      <td>61,092명</td>\n",
       "      <td>NaN</td>\n",
       "    </tr>\n",
       "    <tr>\n",
       "      <th>2</th>\n",
       "      <td>1980년</td>\n",
       "      <td>120,182건</td>\n",
       "      <td>5,608명</td>\n",
       "      <td>111,641명</td>\n",
       "      <td>NaN</td>\n",
       "    </tr>\n",
       "    <tr>\n",
       "      <th>3</th>\n",
       "      <td>1985년</td>\n",
       "      <td>146,836건</td>\n",
       "      <td>7,522명</td>\n",
       "      <td>184,420명</td>\n",
       "      <td>NaN</td>\n",
       "    </tr>\n",
       "    <tr>\n",
       "      <th>4</th>\n",
       "      <td>1990년</td>\n",
       "      <td>255,303건</td>\n",
       "      <td>12,325명</td>\n",
       "      <td>324,229명</td>\n",
       "      <td>NaN</td>\n",
       "    </tr>\n",
       "    <tr>\n",
       "      <th>5</th>\n",
       "      <td>1995년</td>\n",
       "      <td>248,865건</td>\n",
       "      <td>10,323명</td>\n",
       "      <td>331,747명</td>\n",
       "      <td>NaN</td>\n",
       "    </tr>\n",
       "    <tr>\n",
       "      <th>6</th>\n",
       "      <td>2000년</td>\n",
       "      <td>290,481건</td>\n",
       "      <td>10,236명</td>\n",
       "      <td>426,984명</td>\n",
       "      <td>NaN</td>\n",
       "    </tr>\n",
       "    <tr>\n",
       "      <th>7</th>\n",
       "      <td>2005년</td>\n",
       "      <td>214,171건</td>\n",
       "      <td>6,376명</td>\n",
       "      <td>342,233명</td>\n",
       "      <td>NaN</td>\n",
       "    </tr>\n",
       "    <tr>\n",
       "      <th>8</th>\n",
       "      <td>2010년</td>\n",
       "      <td>226,878건</td>\n",
       "      <td>5,505명</td>\n",
       "      <td>352,458명</td>\n",
       "      <td>NaN</td>\n",
       "    </tr>\n",
       "    <tr>\n",
       "      <th>9</th>\n",
       "      <td>2011년</td>\n",
       "      <td>221,711건</td>\n",
       "      <td>5,229명</td>\n",
       "      <td>341,391명</td>\n",
       "      <td>NaN</td>\n",
       "    </tr>\n",
       "    <tr>\n",
       "      <th>10</th>\n",
       "      <td>2012년</td>\n",
       "      <td>223,656건</td>\n",
       "      <td>5,392명</td>\n",
       "      <td>344,565명</td>\n",
       "      <td>NaN</td>\n",
       "    </tr>\n",
       "    <tr>\n",
       "      <th>11</th>\n",
       "      <td>2013년</td>\n",
       "      <td>215,354건</td>\n",
       "      <td>5,092명</td>\n",
       "      <td>328,711명</td>\n",
       "      <td>NaN</td>\n",
       "    </tr>\n",
       "    <tr>\n",
       "      <th>12</th>\n",
       "      <td>2014년</td>\n",
       "      <td>223,552건</td>\n",
       "      <td>4,762명</td>\n",
       "      <td>337,497명</td>\n",
       "      <td>NaN</td>\n",
       "    </tr>\n",
       "    <tr>\n",
       "      <th>13</th>\n",
       "      <td>2015년</td>\n",
       "      <td>232,035건</td>\n",
       "      <td>4,621명</td>\n",
       "      <td>350,400명</td>\n",
       "      <td>NaN</td>\n",
       "    </tr>\n",
       "    <tr>\n",
       "      <th>14</th>\n",
       "      <td>2016년</td>\n",
       "      <td>220,917건</td>\n",
       "      <td>4,292명</td>\n",
       "      <td>331,720명</td>\n",
       "      <td>NaN</td>\n",
       "    </tr>\n",
       "    <tr>\n",
       "      <th>15</th>\n",
       "      <td>2017년</td>\n",
       "      <td>216,335건</td>\n",
       "      <td>4,185명</td>\n",
       "      <td>322,829명</td>\n",
       "      <td>NaN</td>\n",
       "    </tr>\n",
       "    <tr>\n",
       "      <th>16</th>\n",
       "      <td>2018년</td>\n",
       "      <td>217,148건</td>\n",
       "      <td>3,781명</td>\n",
       "      <td>323,036명</td>\n",
       "      <td>NaN</td>\n",
       "    </tr>\n",
       "  </tbody>\n",
       "</table>\n",
       "</div>"
      ],
      "text/plain": [
       "       년도      사고건수     사망자수      부상자수  비고\n",
       "0   1970년   37,243건   3,069명   42,830명 NaN\n",
       "1   1975년   58,323건   3,800명   61,092명 NaN\n",
       "2   1980년  120,182건   5,608명  111,641명 NaN\n",
       "3   1985년  146,836건   7,522명  184,420명 NaN\n",
       "4   1990년  255,303건  12,325명  324,229명 NaN\n",
       "5   1995년  248,865건  10,323명  331,747명 NaN\n",
       "6   2000년  290,481건  10,236명  426,984명 NaN\n",
       "7   2005년  214,171건   6,376명  342,233명 NaN\n",
       "8   2010년  226,878건   5,505명  352,458명 NaN\n",
       "9   2011년  221,711건   5,229명  341,391명 NaN\n",
       "10  2012년  223,656건   5,392명  344,565명 NaN\n",
       "11  2013년  215,354건   5,092명  328,711명 NaN\n",
       "12  2014년  223,552건   4,762명  337,497명 NaN\n",
       "13  2015년  232,035건   4,621명  350,400명 NaN\n",
       "14  2016년  220,917건   4,292명  331,720명 NaN\n",
       "15  2017년  216,335건   4,185명  322,829명 NaN\n",
       "16  2018년  217,148건   3,781명  323,036명 NaN"
      ]
     },
     "execution_count": 11,
     "metadata": {},
     "output_type": "execute_result"
    }
   ],
   "source": [
    "df[0]"
   ]
  },
  {
   "cell_type": "code",
   "execution_count": 12,
   "metadata": {},
   "outputs": [
    {
     "data": {
      "text/html": [
       "<div>\n",
       "<style scoped>\n",
       "    .dataframe tbody tr th:only-of-type {\n",
       "        vertical-align: middle;\n",
       "    }\n",
       "\n",
       "    .dataframe tbody tr th {\n",
       "        vertical-align: top;\n",
       "    }\n",
       "\n",
       "    .dataframe thead th {\n",
       "        text-align: right;\n",
       "    }\n",
       "</style>\n",
       "<table border=\"1\" class=\"dataframe\">\n",
       "  <thead>\n",
       "    <tr style=\"text-align: right;\">\n",
       "      <th></th>\n",
       "      <th>사고건수</th>\n",
       "      <th>사망자수</th>\n",
       "      <th>부상자수</th>\n",
       "      <th>비고</th>\n",
       "    </tr>\n",
       "    <tr>\n",
       "      <th>년도</th>\n",
       "      <th></th>\n",
       "      <th></th>\n",
       "      <th></th>\n",
       "      <th></th>\n",
       "    </tr>\n",
       "  </thead>\n",
       "  <tbody>\n",
       "    <tr>\n",
       "      <th>1970년</th>\n",
       "      <td>37,243건</td>\n",
       "      <td>3,069명</td>\n",
       "      <td>42,830명</td>\n",
       "      <td>NaN</td>\n",
       "    </tr>\n",
       "    <tr>\n",
       "      <th>1975년</th>\n",
       "      <td>58,323건</td>\n",
       "      <td>3,800명</td>\n",
       "      <td>61,092명</td>\n",
       "      <td>NaN</td>\n",
       "    </tr>\n",
       "    <tr>\n",
       "      <th>1980년</th>\n",
       "      <td>120,182건</td>\n",
       "      <td>5,608명</td>\n",
       "      <td>111,641명</td>\n",
       "      <td>NaN</td>\n",
       "    </tr>\n",
       "    <tr>\n",
       "      <th>1985년</th>\n",
       "      <td>146,836건</td>\n",
       "      <td>7,522명</td>\n",
       "      <td>184,420명</td>\n",
       "      <td>NaN</td>\n",
       "    </tr>\n",
       "    <tr>\n",
       "      <th>1990년</th>\n",
       "      <td>255,303건</td>\n",
       "      <td>12,325명</td>\n",
       "      <td>324,229명</td>\n",
       "      <td>NaN</td>\n",
       "    </tr>\n",
       "    <tr>\n",
       "      <th>1995년</th>\n",
       "      <td>248,865건</td>\n",
       "      <td>10,323명</td>\n",
       "      <td>331,747명</td>\n",
       "      <td>NaN</td>\n",
       "    </tr>\n",
       "    <tr>\n",
       "      <th>2000년</th>\n",
       "      <td>290,481건</td>\n",
       "      <td>10,236명</td>\n",
       "      <td>426,984명</td>\n",
       "      <td>NaN</td>\n",
       "    </tr>\n",
       "    <tr>\n",
       "      <th>2005년</th>\n",
       "      <td>214,171건</td>\n",
       "      <td>6,376명</td>\n",
       "      <td>342,233명</td>\n",
       "      <td>NaN</td>\n",
       "    </tr>\n",
       "    <tr>\n",
       "      <th>2010년</th>\n",
       "      <td>226,878건</td>\n",
       "      <td>5,505명</td>\n",
       "      <td>352,458명</td>\n",
       "      <td>NaN</td>\n",
       "    </tr>\n",
       "    <tr>\n",
       "      <th>2011년</th>\n",
       "      <td>221,711건</td>\n",
       "      <td>5,229명</td>\n",
       "      <td>341,391명</td>\n",
       "      <td>NaN</td>\n",
       "    </tr>\n",
       "    <tr>\n",
       "      <th>2012년</th>\n",
       "      <td>223,656건</td>\n",
       "      <td>5,392명</td>\n",
       "      <td>344,565명</td>\n",
       "      <td>NaN</td>\n",
       "    </tr>\n",
       "    <tr>\n",
       "      <th>2013년</th>\n",
       "      <td>215,354건</td>\n",
       "      <td>5,092명</td>\n",
       "      <td>328,711명</td>\n",
       "      <td>NaN</td>\n",
       "    </tr>\n",
       "    <tr>\n",
       "      <th>2014년</th>\n",
       "      <td>223,552건</td>\n",
       "      <td>4,762명</td>\n",
       "      <td>337,497명</td>\n",
       "      <td>NaN</td>\n",
       "    </tr>\n",
       "    <tr>\n",
       "      <th>2015년</th>\n",
       "      <td>232,035건</td>\n",
       "      <td>4,621명</td>\n",
       "      <td>350,400명</td>\n",
       "      <td>NaN</td>\n",
       "    </tr>\n",
       "    <tr>\n",
       "      <th>2016년</th>\n",
       "      <td>220,917건</td>\n",
       "      <td>4,292명</td>\n",
       "      <td>331,720명</td>\n",
       "      <td>NaN</td>\n",
       "    </tr>\n",
       "    <tr>\n",
       "      <th>2017년</th>\n",
       "      <td>216,335건</td>\n",
       "      <td>4,185명</td>\n",
       "      <td>322,829명</td>\n",
       "      <td>NaN</td>\n",
       "    </tr>\n",
       "    <tr>\n",
       "      <th>2018년</th>\n",
       "      <td>217,148건</td>\n",
       "      <td>3,781명</td>\n",
       "      <td>323,036명</td>\n",
       "      <td>NaN</td>\n",
       "    </tr>\n",
       "  </tbody>\n",
       "</table>\n",
       "</div>"
      ],
      "text/plain": [
       "           사고건수     사망자수      부상자수  비고\n",
       "년도                                    \n",
       "1970년   37,243건   3,069명   42,830명 NaN\n",
       "1975년   58,323건   3,800명   61,092명 NaN\n",
       "1980년  120,182건   5,608명  111,641명 NaN\n",
       "1985년  146,836건   7,522명  184,420명 NaN\n",
       "1990년  255,303건  12,325명  324,229명 NaN\n",
       "1995년  248,865건  10,323명  331,747명 NaN\n",
       "2000년  290,481건  10,236명  426,984명 NaN\n",
       "2005년  214,171건   6,376명  342,233명 NaN\n",
       "2010년  226,878건   5,505명  352,458명 NaN\n",
       "2011년  221,711건   5,229명  341,391명 NaN\n",
       "2012년  223,656건   5,392명  344,565명 NaN\n",
       "2013년  215,354건   5,092명  328,711명 NaN\n",
       "2014년  223,552건   4,762명  337,497명 NaN\n",
       "2015년  232,035건   4,621명  350,400명 NaN\n",
       "2016년  220,917건   4,292명  331,720명 NaN\n",
       "2017년  216,335건   4,185명  322,829명 NaN\n",
       "2018년  217,148건   3,781명  323,036명 NaN"
      ]
     },
     "execution_count": 12,
     "metadata": {},
     "output_type": "execute_result"
    }
   ],
   "source": [
    "# 헤더를 열 이름(columns)으로, 나라 이름을 행 이름(index)로 지정\n",
    "df = pd.read_html(url, header=0, index_col=0)\n",
    "df[0]"
   ]
  },
  {
   "cell_type": "code",
   "execution_count": 13,
   "metadata": {},
   "outputs": [
    {
     "data": {
      "text/html": [
       "<div>\n",
       "<style scoped>\n",
       "    .dataframe tbody tr th:only-of-type {\n",
       "        vertical-align: middle;\n",
       "    }\n",
       "\n",
       "    .dataframe tbody tr th {\n",
       "        vertical-align: top;\n",
       "    }\n",
       "\n",
       "    .dataframe thead th {\n",
       "        text-align: right;\n",
       "    }\n",
       "</style>\n",
       "<table border=\"1\" class=\"dataframe\">\n",
       "  <thead>\n",
       "    <tr style=\"text-align: right;\">\n",
       "      <th></th>\n",
       "      <th>사고건수</th>\n",
       "      <th>사망자수</th>\n",
       "      <th>부상자수</th>\n",
       "    </tr>\n",
       "    <tr>\n",
       "      <th>년도</th>\n",
       "      <th></th>\n",
       "      <th></th>\n",
       "      <th></th>\n",
       "    </tr>\n",
       "  </thead>\n",
       "  <tbody>\n",
       "    <tr>\n",
       "      <th>1970년</th>\n",
       "      <td>37,243건</td>\n",
       "      <td>3,069명</td>\n",
       "      <td>42,830명</td>\n",
       "    </tr>\n",
       "    <tr>\n",
       "      <th>1975년</th>\n",
       "      <td>58,323건</td>\n",
       "      <td>3,800명</td>\n",
       "      <td>61,092명</td>\n",
       "    </tr>\n",
       "    <tr>\n",
       "      <th>1980년</th>\n",
       "      <td>120,182건</td>\n",
       "      <td>5,608명</td>\n",
       "      <td>111,641명</td>\n",
       "    </tr>\n",
       "    <tr>\n",
       "      <th>1985년</th>\n",
       "      <td>146,836건</td>\n",
       "      <td>7,522명</td>\n",
       "      <td>184,420명</td>\n",
       "    </tr>\n",
       "    <tr>\n",
       "      <th>1990년</th>\n",
       "      <td>255,303건</td>\n",
       "      <td>12,325명</td>\n",
       "      <td>324,229명</td>\n",
       "    </tr>\n",
       "    <tr>\n",
       "      <th>1995년</th>\n",
       "      <td>248,865건</td>\n",
       "      <td>10,323명</td>\n",
       "      <td>331,747명</td>\n",
       "    </tr>\n",
       "    <tr>\n",
       "      <th>2000년</th>\n",
       "      <td>290,481건</td>\n",
       "      <td>10,236명</td>\n",
       "      <td>426,984명</td>\n",
       "    </tr>\n",
       "    <tr>\n",
       "      <th>2005년</th>\n",
       "      <td>214,171건</td>\n",
       "      <td>6,376명</td>\n",
       "      <td>342,233명</td>\n",
       "    </tr>\n",
       "    <tr>\n",
       "      <th>2010년</th>\n",
       "      <td>226,878건</td>\n",
       "      <td>5,505명</td>\n",
       "      <td>352,458명</td>\n",
       "    </tr>\n",
       "    <tr>\n",
       "      <th>2011년</th>\n",
       "      <td>221,711건</td>\n",
       "      <td>5,229명</td>\n",
       "      <td>341,391명</td>\n",
       "    </tr>\n",
       "    <tr>\n",
       "      <th>2012년</th>\n",
       "      <td>223,656건</td>\n",
       "      <td>5,392명</td>\n",
       "      <td>344,565명</td>\n",
       "    </tr>\n",
       "    <tr>\n",
       "      <th>2013년</th>\n",
       "      <td>215,354건</td>\n",
       "      <td>5,092명</td>\n",
       "      <td>328,711명</td>\n",
       "    </tr>\n",
       "    <tr>\n",
       "      <th>2014년</th>\n",
       "      <td>223,552건</td>\n",
       "      <td>4,762명</td>\n",
       "      <td>337,497명</td>\n",
       "    </tr>\n",
       "    <tr>\n",
       "      <th>2015년</th>\n",
       "      <td>232,035건</td>\n",
       "      <td>4,621명</td>\n",
       "      <td>350,400명</td>\n",
       "    </tr>\n",
       "    <tr>\n",
       "      <th>2016년</th>\n",
       "      <td>220,917건</td>\n",
       "      <td>4,292명</td>\n",
       "      <td>331,720명</td>\n",
       "    </tr>\n",
       "    <tr>\n",
       "      <th>2017년</th>\n",
       "      <td>216,335건</td>\n",
       "      <td>4,185명</td>\n",
       "      <td>322,829명</td>\n",
       "    </tr>\n",
       "    <tr>\n",
       "      <th>2018년</th>\n",
       "      <td>217,148건</td>\n",
       "      <td>3,781명</td>\n",
       "      <td>323,036명</td>\n",
       "    </tr>\n",
       "  </tbody>\n",
       "</table>\n",
       "</div>"
      ],
      "text/plain": [
       "           사고건수     사망자수      부상자수\n",
       "년도                                \n",
       "1970년   37,243건   3,069명   42,830명\n",
       "1975년   58,323건   3,800명   61,092명\n",
       "1980년  120,182건   5,608명  111,641명\n",
       "1985년  146,836건   7,522명  184,420명\n",
       "1990년  255,303건  12,325명  324,229명\n",
       "1995년  248,865건  10,323명  331,747명\n",
       "2000년  290,481건  10,236명  426,984명\n",
       "2005년  214,171건   6,376명  342,233명\n",
       "2010년  226,878건   5,505명  352,458명\n",
       "2011년  221,711건   5,229명  341,391명\n",
       "2012년  223,656건   5,392명  344,565명\n",
       "2013년  215,354건   5,092명  328,711명\n",
       "2014년  223,552건   4,762명  337,497명\n",
       "2015년  232,035건   4,621명  350,400명\n",
       "2016년  220,917건   4,292명  331,720명\n",
       "2017년  216,335건   4,185명  322,829명\n",
       "2018년  217,148건   3,781명  323,036명"
      ]
     },
     "execution_count": 13,
     "metadata": {},
     "output_type": "execute_result"
    }
   ],
   "source": [
    "# 슬라이싱을 활용하여 '비고'란 제거\n",
    "a = df[0].iloc[:,:3]\n",
    "a"
   ]
  },
  {
   "cell_type": "code",
   "execution_count": 14,
   "metadata": {},
   "outputs": [],
   "source": [
    "# 문자와 쉼표 제거 ( strip 으로는 ,가 제거가 안되어 lamda함수도 사용 )\n",
    "a['사고건수'] = a['사고건수'].str.strip('건').apply(lambda x: x.replace(',', ''))\n",
    "a['사망자수'] = a['사망자수'].str.strip('명').apply(lambda x: x.replace(',', ''))\n",
    "a['부상자수'] = a['부상자수'].str.strip('명').apply(lambda x: x.replace(',', ''))"
   ]
  },
  {
   "cell_type": "code",
   "execution_count": 15,
   "metadata": {},
   "outputs": [
    {
     "name": "stdout",
     "output_type": "stream",
     "text": [
      "         사고건수   사망자수    부상자수\n",
      "년도                          \n",
      "1970년   37243   3069   42830\n",
      "1975년   58323   3800   61092\n",
      "1980년  120182   5608  111641\n",
      "1985년  146836   7522  184420\n",
      "1990년  255303  12325  324229\n",
      "1995년  248865  10323  331747\n",
      "2000년  290481  10236  426984\n",
      "2005년  214171   6376  342233\n",
      "2010년  226878   5505  352458\n",
      "2011년  221711   5229  341391\n",
      "2012년  223656   5392  344565\n",
      "2013년  215354   5092  328711\n",
      "2014년  223552   4762  337497\n",
      "2015년  232035   4621  350400\n",
      "2016년  220917   4292  331720\n",
      "2017년  216335   4185  322829\n",
      "2018년  217148   3781  323036\n"
     ]
    }
   ],
   "source": [
    "print(a)"
   ]
  },
  {
   "cell_type": "code",
   "execution_count": 16,
   "metadata": {},
   "outputs": [],
   "source": [
    "# 문자로 되어있는 값을 정수형으로 변환\n",
    "a['사고건수']=pd.to_numeric(a['사고건수'])\n",
    "a['사망자수']=pd.to_numeric(a['사망자수'])\n",
    "a['부상자수']=pd.to_numeric(a['부상자수'])"
   ]
  },
  {
   "cell_type": "code",
   "execution_count": 17,
   "metadata": {},
   "outputs": [
    {
     "data": {
      "text/plain": [
       "<matplotlib.axes._subplots.AxesSubplot at 0x272813f5940>"
      ]
     },
     "execution_count": 17,
     "metadata": {},
     "output_type": "execute_result"
    },
    {
     "data": {
      "image/png": "[encoded data removed]",
      "text/plain": [
       "<Figure size 432x288 with 1 Axes>"
      ]
     },
     "metadata": {},
     "output_type": "display_data"
    }
   ],
   "source": [
    "a.plot()"
   ]
  },
  {
   "cell_type": "code",
   "execution_count": 18,
   "metadata": {},
   "outputs": [
    {
     "data": {
      "text/plain": [
       "<matplotlib.axes._subplots.AxesSubplot at 0x2728141ceb0>"
      ]
     },
     "execution_count": 18,
     "metadata": {},
     "output_type": "execute_result"
    },
    {
     "data": {
      "image/png": "[encoded data removed]",
      "text/plain": [
       "<Figure size 432x288 with 1 Axes>"
      ]
     },
     "metadata": {},
     "output_type": "display_data"
    }
   ],
   "source": [
    "# 막대 그래프로 표현\n",
    "a.iloc[:,1:].plot(kind='bar',stacked=True)"
   ]
  },
  {
   "cell_type": "code",
   "execution_count": 19,
   "metadata": {},
   "outputs": [
    {
     "data": {
      "text/plain": [
       "<matplotlib.axes._subplots.AxesSubplot at 0x27281315d30>"
      ]
     },
     "execution_count": 19,
     "metadata": {},
     "output_type": "execute_result"
    },
    {
     "data": {
      "image/png": "[encoded data removed]",
      "text/plain": [
       "<Figure size 432x288 with 1 Axes>"
      ]
     },
     "metadata": {},
     "output_type": "display_data"
    }
   ],
   "source": [
    "# 교통사고 건 수만 막대 그래프로 표현\n",
    "a.iloc[:,0].plot(kind='bar',color='green')"
   ]
  },
  {
   "cell_type": "markdown",
   "metadata": {},
   "source": [
    "### 그래프 해석\n",
    "연도별 교통사고 수 의 변화를 살펴보기 위해 꺾은선 그래프를 그려보고 부상자수+사망자수의 차이를 살펴보고 교통사고 건수와 비교하기 위해 막대 그래프를 각각 또 그렸다.\n",
    "1. 2000년에 교통사고 수가 가장 많았고, 1970년의 교통사고 수가 가장 적음을 알 수 있다. 교통사고 건수와 부상자 수가 계속 증가하는 추세 이다가 2000년을 기준으로 이후에는 30만명 초반대에서 크게 벗어나지 않고 있다.\n",
    "2. 또한 부상자수+사망자수는 교통사고 건수에 대체로 비례하여 2000년에 교통사고 수가 가장 많았고, 1970년의 교통사고 수가 가장 적음을 알 수 있다."
   ]
  },
  {
   "cell_type": "markdown",
   "metadata": {},
   "source": [
    "### 느낀점\n",
    "추가로 운전자 수나 시간대 별 교통량 등의 자료를 참고하면 더욱 깊이 있는 해석이 나올 수 있었을 것 같다. 특히 마지막 월별 사고 건수의 그래프를 보며 2월과 10월의 사고 건수의 차이의 원인이 궁금해졌다."
   ]
  }
 ],
 "metadata": {
  "kernelspec": {
   "display_name": "Python 3",
   "language": "python",
   "name": "python3"
  },
  "language_info": {
   "codemirror_mode": {
    "name": "ipython",
    "version": 3
   },
   "file_extension": ".py",
   "mimetype": "text/x-python",
   "name": "python",
   "nbconvert_exporter": "python",
   "pygments_lexer": "ipython3",
   "version": "3.8.3"
  }
 },
 "nbformat": 4,
 "nbformat_minor": 4
}
