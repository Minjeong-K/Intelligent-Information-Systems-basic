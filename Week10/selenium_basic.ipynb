{
 "cells": [
  {
   "cell_type": "code",
   "execution_count": 1,
   "metadata": {},
   "outputs": [],
   "source": [
    "from selenium import webdriver"
   ]
  },
  {
   "cell_type": "code",
   "execution_count": 2,
   "metadata": {},
   "outputs": [],
   "source": [
    "driver = webdriver.Chrome(r\"C:\\Users\\강민정\\Downloads\\chromedriver_win32\\chromedriver.exe\")\n",
    "# 경로명 앞에 r을 붙이면 \\ -> / or \\\\ 로 안바꿔주어도 됨"
   ]
  },
  {
   "cell_type": "code",
   "execution_count": 3,
   "metadata": {},
   "outputs": [],
   "source": [
    "# 네이버 접속\n",
    "driver.get(\"https://www.naver.com\")"
   ]
  },
  {
   "cell_type": "code",
   "execution_count": 4,
   "metadata": {},
   "outputs": [],
   "source": [
    "driver.get(\"https://nid.naver.com/nidlogin.login?url=http%3A%2F%2Fmail.naver.com%2F\")"
   ]
  },
  {
   "cell_type": "code",
   "execution_count": 8,
   "metadata": {},
   "outputs": [],
   "source": [
    "# Selenium의 find_element_by_id를 이용하여 id 찾기\n",
    "login_id = driver.find_element_by_id(\"id\")\n",
    "login_id.clear()\n",
    "login_id.send_keys(\"naver_id\")  # 아무 아이디 입력"
   ]
  },
  {
   "cell_type": "code",
   "execution_count": 9,
   "metadata": {},
   "outputs": [],
   "source": [
    "# Selenium의 find_element_by_id를 이용하여 pw 찾기\n",
    "login_id = driver.find_element_by_id(\"pw\")\n",
    "login_id.clear()\n",
    "login_id.send_keys(\"password1111\")  # 아무 비밀번호 입력"
   ]
  },
  {
   "cell_type": "code",
   "execution_count": 10,
   "metadata": {},
   "outputs": [],
   "source": [
    "# Xpath로 접근!\n",
    "# Xpath : XML 언어 형식\n",
    "login_button = '//*[@id=\"log.login\"]'   # 안에 \"\" 가 있으니까 바깥에는 ''\n",
    "driver.find_element_by_xpath(login_button).click()"
   ]
  },
  {
   "cell_type": "code",
   "execution_count": 11,
   "metadata": {},
   "outputs": [],
   "source": [
    "# 모든 작업 완료 후 크롬 드라이버 닫기\n",
    "driver.close()"
   ]
  },
  {
   "cell_type": "code",
   "execution_count": null,
   "metadata": {},
   "outputs": [],
   "source": []
  }
 ],
 "metadata": {
  "kernelspec": {
   "display_name": "Python 3",
   "language": "python",
   "name": "python3"
  },
  "language_info": {
   "codemirror_mode": {
    "name": "ipython",
    "version": 3
   },
   "file_extension": ".py",
   "mimetype": "text/x-python",
   "name": "python",
   "nbconvert_exporter": "python",
   "pygments_lexer": "ipython3",
   "version": "3.8.3"
  }
 },
 "nbformat": 4,
 "nbformat_minor": 4
}
