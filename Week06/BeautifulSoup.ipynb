{
 "cells": [
  {
   "cell_type": "markdown",
   "metadata": {},
   "source": [
    "## urllib\n",
    "\n",
    "\n",
    "\n",
    "## BeatifulSoup\n",
    "\n",
    "\n",
    "\n",
    "**데이터를 받아오는 건 '크롤링'\n",
    "\n",
    "** 받아온 데이터"
   ]
  },
  {
   "cell_type": "markdown",
   "metadata": {},
   "source": [
    "### BeautifulSoup 사용하기"
   ]
  },
  {
   "cell_type": "code",
   "execution_count": 3,
   "metadata": {},
   "outputs": [
    {
     "name": "stdout",
     "output_type": "stream",
     "text": [
      "<class 'bs4.BeautifulSoup'>\n",
      "<html><div>Hello</div></html>\n"
     ]
    }
   ],
   "source": [
    "from bs4 import BeautifulSoup\n",
    "\n",
    "html_str = \"<html><div>Hello</div></html>\"\n",
    "soup = BeautifulSoup(html_str, \"html.parser\")\n",
    "\n",
    "print(type(soup))\n",
    "print(soup)"
   ]
  },
  {
   "cell_type": "code",
   "execution_count": 4,
   "metadata": {},
   "outputs": [
    {
     "name": "stdout",
     "output_type": "stream",
     "text": [
      "<div>Hello</div>\n"
     ]
    }
   ],
   "source": [
    "# find() \n",
    "print(soup.find(\"div\"))"
   ]
  },
  {
   "cell_type": "code",
   "execution_count": 5,
   "metadata": {},
   "outputs": [
    {
     "name": "stdout",
     "output_type": "stream",
     "text": [
      "<ul>\n",
      "<li>line1</li>\n",
      "<li>line2</li>\n",
      "<li>line3</li>\n",
      "</ul>\n"
     ]
    }
   ],
   "source": [
    "# ul 태그 뽑아내기 ( ul : unordered list)\n",
    "html_str = \"\"\"\n",
    "<html>\n",
    "    <body>\n",
    "        <ul>\n",
    "            <li>line1</li>\n",
    "            <li>line2</li>\n",
    "            <li>line3</li>\n",
    "        </ul>\n",
    "    </body>\n",
    "</html>\"\"\"\n",
    "soup = BeautifulSoup(html_str, \"html.parser\")\n",
    "\n",
    "print(soup.find(\"ul\"))"
   ]
  },
  {
   "cell_type": "code",
   "execution_count": 6,
   "metadata": {},
   "outputs": [
    {
     "name": "stdout",
     "output_type": "stream",
     "text": [
      "<ol>\n",
      "<li>line1</li>\n",
      "<li>line2</li>\n",
      "<li>line3</li>\n",
      "</ol>\n"
     ]
    }
   ],
   "source": [
    "# ol 태그 ( ol : ordered list )\n",
    "html_str = \"\"\"\n",
    "<html>\n",
    "    <body>\n",
    "        <ol>\n",
    "            <li>line1</li>\n",
    "            <li>line2</li>\n",
    "            <li>line3</li>\n",
    "        </u=ol>\n",
    "    </body>\n",
    "</html>\"\"\"\n",
    "soup = BeautifulSoup(html_str, \"html.parser\")\n",
    "\n",
    "print(soup.find(\"ol\"))"
   ]
  },
  {
   "cell_type": "code",
   "execution_count": 7,
   "metadata": {},
   "outputs": [
    {
     "name": "stdout",
     "output_type": "stream",
     "text": [
      "<li>line1</li>\n",
      "line1\n"
     ]
    }
   ],
   "source": [
    "# line1 만 뽑으려면? -> .text 속성 출력\n",
    "html_str = \"\"\"\n",
    "<html>\n",
    "    <body>\n",
    "        <ul>\n",
    "            <li>line1</li>\n",
    "            <li>line2</li>\n",
    "            <li>line3</li>\n",
    "        </ul>\n",
    "    </body>\n",
    "</html>\"\"\"\n",
    "soup = BeautifulSoup(html_str, \"html.parser\")\n",
    "\n",
    "ul = soup.find(\"ul\")\n",
    "li = ul.find(\"li\")\n",
    "print(li)\n",
    "\n",
    "text = li.text\n",
    "print(text)"
   ]
  },
  {
   "cell_type": "markdown",
   "metadata": {},
   "source": [
    "### find_all()\n",
    "- 조건에 해당하는 모든 요소를 리스트 [] 형태로 추출해주는 기능\n",
    "- 리스트 형태로 리턴"
   ]
  },
  {
   "cell_type": "code",
   "execution_count": 9,
   "metadata": {},
   "outputs": [
    {
     "name": "stdout",
     "output_type": "stream",
     "text": [
      "[<li>line1</li>, <li>line2</li>, <li>line3</li>]\n"
     ]
    }
   ],
   "source": [
    "html_str = \"\"\"\n",
    "<html>\n",
    "    <body>\n",
    "        <ul>\n",
    "            <li>line1</li>\n",
    "            <li>line2</li>\n",
    "            <li>line3</li>\n",
    "        </ul>\n",
    "    </body>\n",
    "</html>\"\"\"\n",
    "soup = BeautifulSoup(html_str, \"html.parser\")\n",
    "\n",
    "ul = soup.find(\"ul\")\n",
    "lis = ul.find_all(\"li\")\n",
    "print(lis)"
   ]
  },
  {
   "cell_type": "code",
   "execution_count": 10,
   "metadata": {},
   "outputs": [
    {
     "name": "stdout",
     "output_type": "stream",
     "text": [
      "line3\n"
     ]
    }
   ],
   "source": [
    "print(lis[2].text)"
   ]
  },
  {
   "cell_type": "markdown",
   "metadata": {},
   "source": [
    "### class 속성 이용하기"
   ]
  },
  {
   "cell_type": "code",
   "execution_count": 11,
   "metadata": {},
   "outputs": [
    {
     "name": "stdout",
     "output_type": "stream",
     "text": [
      "[<li>line4</li>, <li>line5</li>, <li>line6</li>]\n"
     ]
    }
   ],
   "source": [
    "html_str = \"\"\"\n",
    "<html>\n",
    "    <body>\n",
    "        <ul  class=\"class1\">\n",
    "            <li>line1</li>\n",
    "            <li>line2</li>\n",
    "            <li>line3</li>\n",
    "        </ul>\n",
    "        <ul  class=\"class2\">\n",
    "            <li>line4</li>\n",
    "            <li>line5</li>\n",
    "            <li>line6</li>\n",
    "        </ul>\n",
    "    </body>\n",
    "</html>\"\"\"\n",
    "soup = BeautifulSoup(html_str, \"html.parser\")\n",
    "\n",
    "ul = soup.find(\"ul\",{\"class\":\"class2\"})\n",
    "lis = ul.find_all(\"li\")\n",
    "print(lis)"
   ]
  },
  {
   "cell_type": "markdown",
   "metadata": {},
   "source": [
    "**id** : 웹 페이지에서 유일 ( 특별한 이름 )\n",
    "\n",
    "**class** : 여러번 사용 가능 ( 일반적인 이름 )"
   ]
  },
  {
   "cell_type": "code",
   "execution_count": 12,
   "metadata": {},
   "outputs": [
    {
     "name": "stdout",
     "output_type": "stream",
     "text": [
      "<a href=\"https://www.naver.com\">네이버</a>\n",
      "https://www.naver.com\n"
     ]
    }
   ],
   "source": [
    "# a 태그만 뽑아내기\n",
    "html_str = \"\"\"\n",
    "<html>\n",
    "    <body>\n",
    "        <ul  class=\"search\">\n",
    "            <li>\n",
    "                <a href=\"https://www.naver.com\">네이버</a>\n",
    "            </li>\n",
    "            <li>\n",
    "                <a href=\"https://www.google.com\">구글</a>\n",
    "            </li>\n",
    "        </ul>\n",
    "        <ul  class=\"sns\">\n",
    "            <li>\n",
    "                <a href=\"https://www.facebook.com\">페이스북</a>\n",
    "            </li>\n",
    "            <li>\n",
    "                <a href=\"https://www.instagram.com\">인스타그램</a>\n",
    "            </li>\n",
    "        </ul>\n",
    "    </body>\n",
    "</html>\"\"\"\n",
    "\n",
    "soup = BeautifulSoup(html_str, \"html.parser\")\n",
    "\n",
    "ul = soup.find(\"a\")\n",
    "print(ul)\n",
    "print(ul[\"href\"])"
   ]
  },
  {
   "cell_type": "markdown",
   "metadata": {},
   "source": [
    "### select() 함수를 이용하여 원하는 데이터 추출\n",
    "- css_select 를 활용해서 원하는 태그를 찾는 방법"
   ]
  },
  {
   "cell_type": "code",
   "execution_count": null,
   "metadata": {},
   "outputs": [],
   "source": []
  }
 ],
 "metadata": {
  "kernelspec": {
   "display_name": "Python 3",
   "language": "python",
   "name": "python3"
  },
  "language_info": {
   "codemirror_mode": {
    "name": "ipython",
    "version": 3
   },
   "file_extension": ".py",
   "mimetype": "text/x-python",
   "name": "python",
   "nbconvert_exporter": "python",
   "pygments_lexer": "ipython3",
   "version": "3.8.3"
  }
 },
 "nbformat": 4,
 "nbformat_minor": 4
}
