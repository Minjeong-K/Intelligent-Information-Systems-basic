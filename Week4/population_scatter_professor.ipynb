{
 "cells": [
  {
   "cell_type": "markdown",
   "metadata": {},
   "source": [
    "각 Cell을 실행시켜보면서 값을 확인해 보세요~\n",
    "* Ctrl + Enter"
   ]
  },
  {
   "cell_type": "code",
   "execution_count": null,
   "metadata": {
    "scrolled": true
   },
   "outputs": [],
   "source": [
    "import csv\n",
    "\n",
    "f = open('incheon_population.csv', 'r')\n",
    "data = csv.reader(f)\n",
    "\n",
    "male, female = [], []\n",
    "name = input('궁금한 동네 이름을 입력해주세요 : ')\n",
    "\n",
    "for row in data:\n",
    "    if name in row[0]:\n",
    "        for i in range(3, 104):\n",
    "            male.append(int(row[i]))       # 남성 데이터 저장하기\n",
    "            female.append(int(row[i+103])) # 여성 데이터 저장하기\n",
    "        break"
   ]
  },
  {
   "cell_type": "code",
   "execution_count": null,
   "metadata": {},
   "outputs": [],
   "source": [
    "import matplotlib.pyplot as plt\n",
    "\n",
    "plt.rc('font', family = 'Malgun Gothic')\n",
    "plt.title(name + ' 연령별 성별 인구수')\n",
    "plt.plot(male, label='남')\n",
    "plt.plot(female, label='여')\n",
    "plt.xlabel('나이')\n",
    "plt.ylabel('인구수')\n",
    "plt.legend()\n",
    "plt.show()"
   ]
  },
  {
   "cell_type": "code",
   "execution_count": null,
   "metadata": {},
   "outputs": [],
   "source": [
    "import csv\n",
    "\n",
    "f = open('incheon_population.csv', 'r')\n",
    "data = csv.reader(f)\n",
    "\n",
    "# male, female = [], []\n",
    "result = []\n",
    "name = input('궁금한 동네 이름을 입력해주세요 : ')\n",
    "\n",
    "for row in data:\n",
    "    if name in row[0]:\n",
    "        for i in range(3, 104):\n",
    "            m = int(row[i])\n",
    "            f = int(row[i+103])\n",
    "            result.append(m-f)\n",
    "        break"
   ]
  },
  {
   "cell_type": "code",
   "execution_count": null,
   "metadata": {},
   "outputs": [],
   "source": [
    "import matplotlib.pyplot as plt\n",
    "\n",
    "plt.rc('font', family = 'Malgun Gothic')\n",
    "plt.rcParams['axes.unicode_minus'] = False\n",
    "plt.title(name + ' 연령별 성별 인구수')\n",
    "plt.bar(range(101), result)\n",
    "plt.xlabel('나이')\n",
    "plt.ylabel('남성 인구 - 여성 인구')\n",
    "plt.show()"
   ]
  },
  {
   "cell_type": "code",
   "execution_count": null,
   "metadata": {},
   "outputs": [],
   "source": [
    "import matplotlib.pyplot as plt\n",
    "\n",
    "plt.style.use('ggplot')\n",
    "plt.scatter([1, 2, 3, 4], [10, 30, 20, 40])\n",
    "plt.show()"
   ]
  },
  {
   "cell_type": "code",
   "execution_count": null,
   "metadata": {},
   "outputs": [],
   "source": [
    "import matplotlib.pyplot as plt\n",
    "\n",
    "plt.style.use('ggplot')\n",
    "plt.scatter([1, 2, 3, 4], [10, 30, 20, 40], s=[100, 200, 250, 300])\n",
    "plt.show()"
   ]
  },
  {
   "cell_type": "code",
   "execution_count": null,
   "metadata": {},
   "outputs": [],
   "source": [
    "import matplotlib.pyplot as plt\n",
    "\n",
    "plt.style.use('ggplot')\n",
    "x_list = [1, 2, 3, 4]\n",
    "y_list = [10, 30, 20, 40]\n",
    "size = [100, 200, 250, 300]\n",
    "plt.scatter(x_list, y_list, s=size, c=['r', 'b', 'g', 'gold'])\n",
    "plt.show()"
   ]
  },
  {
   "cell_type": "code",
   "execution_count": null,
   "metadata": {},
   "outputs": [],
   "source": [
    "import matplotlib.pyplot as plt\n",
    "\n",
    "plt.style.use('ggplot')\n",
    "x_list = [1, 2, 3, 4]\n",
    "y_list = [10, 30, 20, 40]\n",
    "size = [100, 200, 250, 300]\n",
    "plt.scatter(x_list, y_list, s=size, c=range(4))\n",
    "plt.colorbar()\n",
    "plt.show()"
   ]
  },
  {
   "cell_type": "code",
   "execution_count": null,
   "metadata": {},
   "outputs": [],
   "source": [
    "import matplotlib.pyplot as plt\n",
    "\n",
    "plt.style.use('ggplot')\n",
    "x_list = [1, 2, 3, 4]\n",
    "y_list = [10, 30, 20, 40]\n",
    "size = [100, 200, 250, 300]\n",
    "plt.scatter(x_list, y_list, s=size, c=range(4), cmap='jet')\n",
    "plt.colorbar()\n",
    "plt.show()"
   ]
  },
  {
   "cell_type": "code",
   "execution_count": null,
   "metadata": {},
   "outputs": [],
   "source": [
    "import matplotlib.pyplot as plt\n",
    "\n",
    "plt.style.use('ggplot')\n",
    "x_list = [1, 2, 3, 4]\n",
    "y_list = [10, 30, 20, 40]\n",
    "size = [100, 200, 250, 300]\n",
    "plt.scatter(x_list, y_list, s=size, c=[1,2,5, 1], cmap='jet')\n",
    "plt.show()"
   ]
  },
  {
   "cell_type": "code",
   "execution_count": null,
   "metadata": {},
   "outputs": [],
   "source": [
    "import matplotlib.pyplot as plt\n",
    "import random\n",
    "\n",
    "x, y = [], []\n",
    "size = []\n",
    "\n",
    "for i in range(100):\n",
    "    x.append(random.randint(50, 100))\n",
    "    y.append(random.randint(50, 100))\n",
    "    size.append(random.randint(10, 100))\n",
    "\n",
    "plt.scatter(x, y, s=size)\n",
    "plt.show()"
   ]
  },
  {
   "cell_type": "code",
   "execution_count": null,
   "metadata": {},
   "outputs": [],
   "source": [
    "import matplotlib.pyplot as plt\n",
    "import random\n",
    "\n",
    "x, y = [], []\n",
    "size = []\n",
    "\n",
    "for i in range(100):\n",
    "    x.append(random.randint(50, 100))\n",
    "    y.append(random.randint(50, 100))\n",
    "    size.append(random.randint(10, 100))\n",
    "\n",
    "plt.scatter(x, y, s=size, c=size, cmap='jet')\n",
    "plt.colorbar()\n",
    "\n",
    "plt.show()"
   ]
  },
  {
   "cell_type": "code",
   "execution_count": null,
   "metadata": {},
   "outputs": [],
   "source": [
    "import matplotlib.pyplot as plt\n",
    "import random\n",
    "\n",
    "x, y = [], []\n",
    "size = []\n",
    "\n",
    "for i in range(100):\n",
    "    x.append(random.randint(50, 100))\n",
    "    y.append(random.randint(50, 100))\n",
    "    size.append(random.randint(10, 100))\n",
    "\n",
    "plt.scatter(x, y, s=size, c=size, cmap='jet', alpha=0.3)\n",
    "plt.colorbar()\n",
    "\n",
    "plt.show()"
   ]
  },
  {
   "cell_type": "code",
   "execution_count": null,
   "metadata": {},
   "outputs": [],
   "source": [
    "import csv\n",
    "\n",
    "f = open('incheon_population.csv', 'r')\n",
    "data = csv.reader(f)\n",
    "\n",
    "male, female = [], []\n",
    "name = input('궁금한 동네 이름을 입력해주세요 : ')\n",
    "\n",
    "for row in data:\n",
    "    if name in row[0]:\n",
    "        for i in range(3, 104):\n",
    "            male.append(int(row[i]))       # 남성 데이터 저장하기\n",
    "            female.append(int(row[i+103])) # 여성 데이터 저장하기\n",
    "        break"
   ]
  },
  {
   "cell_type": "code",
   "execution_count": null,
   "metadata": {},
   "outputs": [],
   "source": [
    "import matplotlib.pyplot as plt\n",
    "\n",
    "plt.rc('font', family = 'Malgun Gothic')\n",
    "plt.title('연령대별 성별 인구 그래프')\n",
    "plt.scatter(male, female)\n",
    "plt.xlabel('남성 인구수')\n",
    "plt.ylabel('여성 인구수')\n",
    "plt.show()"
   ]
  },
  {
   "cell_type": "code",
   "execution_count": null,
   "metadata": {},
   "outputs": [],
   "source": [
    "import matplotlib.pyplot as plt\n",
    "\n",
    "plt.rc('font', family = 'Malgun Gothic')\n",
    "plt.title('연령대별 성별 인구 그래프')\n",
    "plt.scatter(male, female, c=range(101), alpha=0.5, cmap='jet') # 컬러맵 적용\n",
    "plt.colorbar()\n",
    "line = range(max(male))\n",
    "plt.plot(line, line, color='g')\n",
    "plt.xlabel('남성 인구수')\n",
    "plt.ylabel('여성 인구수')\n",
    "plt.show()"
   ]
  },
  {
   "cell_type": "code",
   "execution_count": null,
   "metadata": {},
   "outputs": [],
   "source": [
    "import csv\n",
    "import math\n",
    "\n",
    "f = open('incheon_population.csv', 'r')\n",
    "data = csv.reader(f)\n",
    "\n",
    "male, female = [], []\n",
    "size = []\n",
    "name = input('궁금한 동네 이름을 입력해주세요 : ')\n",
    "\n",
    "for row in data:\n",
    "    if name in row[0]:\n",
    "        for i in range(3, 104):\n",
    "            m, f = int(row[i]), int(row[i+103])\n",
    "            male.append(m)       # 남성 데이터 저장하기\n",
    "            female.append(f) # 여성 데이터 저장하기\n",
    "            size.append(math.sqrt(m+f))\n",
    "            # size.append(m+f)\n",
    "        break"
   ]
  },
  {
   "cell_type": "code",
   "execution_count": null,
   "metadata": {},
   "outputs": [],
   "source": [
    "import matplotlib.pyplot as plt\n",
    "\n",
    "plt.rc('font', family = 'Malgun Gothic')\n",
    "plt.figure(figsize=(10,5), dpi=300)\n",
    "plt.title(name + ' 연령대별 성별 인구 그래프', fontsize=15, color='b')\n",
    "plt.rcParams['axes.unicode_minus'] = False\n",
    "\n",
    "plt.scatter(male, female, s=size, c=range(101), alpha=0.9, cmap='jet') \n",
    "plt.colorbar()\n",
    "\n",
    "max_val = max(max(male), max(female))\n",
    "plt.axis([0, max_val, 0, max_val])\n",
    "line = range(max_val)\n",
    "plt.plot(line, line, color='g')\n",
    "plt.xlabel('남성 인구수')\n",
    "plt.ylabel('여성 인구수')\n",
    "\n",
    "plt.show()"
   ]
  }
 ],
 "metadata": {
  "kernelspec": {
   "display_name": "Python 3",
   "language": "python",
   "name": "python3"
  },
  "language_info": {
   "codemirror_mode": {
    "name": "ipython",
    "version": 3
   },
   "file_extension": ".py",
   "mimetype": "text/x-python",
   "name": "python",
   "nbconvert_exporter": "python",
   "pygments_lexer": "ipython3",
   "version": "3.8.3"
  }
 },
 "nbformat": 4,
 "nbformat_minor": 4
}
