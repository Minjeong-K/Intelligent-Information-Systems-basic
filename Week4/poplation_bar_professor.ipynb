{
 "cells": [
  {
   "cell_type": "markdown",
   "metadata": {},
   "source": [
    "각 Cell을 실행시켜보면서 값을 확인해 보세요~\n",
    "* Ctrl + Enter"
   ]
  },
  {
   "cell_type": "code",
   "execution_count": null,
   "metadata": {},
   "outputs": [],
   "source": [
    "import matplotlib.pyplot as plt\n",
    "\n",
    "plt.bar([0, 1, 2, 4, 6, 10], [1, 2, 3, 5, 6, 7])\n",
    "plt.show()"
   ]
  },
  {
   "cell_type": "code",
   "execution_count": null,
   "metadata": {},
   "outputs": [],
   "source": [
    "import matplotlib.pyplot as plt\n",
    "\n",
    "plt.bar(range(6), [1, 2, 3, 5, 6, 7])\n",
    "plt.show()"
   ]
  },
  {
   "cell_type": "code",
   "execution_count": null,
   "metadata": {},
   "outputs": [],
   "source": [
    "list(range(6))"
   ]
  },
  {
   "cell_type": "code",
   "execution_count": null,
   "metadata": {},
   "outputs": [],
   "source": [
    "import csv\n",
    "import matplotlib.pyplot as plt\n",
    "\n",
    "f = open('incheon_population.csv', 'r')\n",
    "data = csv.reader(f)\n",
    "\n",
    "result = []                                          \n",
    "\n",
    "for row in data:\n",
    "    if '송도1동' in row[0]:                          \n",
    "        for m, f in zip(row[3:104], row[106:207]):   \n",
    "            result.append(int(m)+int(f))              \n",
    "\n",
    "# print(result)              \n",
    "\n",
    "plt.rc('font', family = 'Malgun Gothic')\n",
    "plt.title('송도1동 연령별 인구수')\n",
    "\n",
    "plt.bar(range(101),result)\n",
    "plt.xlabel('연령')\n",
    "plt.ylabel('인구수')\n",
    "plt.show()"
   ]
  },
  {
   "cell_type": "code",
   "execution_count": null,
   "metadata": {},
   "outputs": [],
   "source": [
    "import csv\n",
    "import matplotlib.pyplot as plt\n",
    "\n",
    "f = open('incheon_population.csv', 'r')\n",
    "data = csv.reader(f)\n",
    "\n",
    "result = []                                          \n",
    "\n",
    "for row in data:\n",
    "    if '송도1동' in row[0]:                          \n",
    "        for m, f in zip(row[3:104], row[106:207]):   \n",
    "            result.append(int(m)+int(f))              \n",
    "\n",
    "# print(result)              \n",
    "\n",
    "plt.rc('font', family = 'Malgun Gothic')\n",
    "plt.title('송도1동 연령별 인구수')\n",
    "\n",
    "plt.barh(range(101),result)\n",
    "plt.xlabel('연령')\n",
    "plt.ylabel('인구수')\n",
    "plt.show()"
   ]
  },
  {
   "cell_type": "code",
   "execution_count": null,
   "metadata": {},
   "outputs": [],
   "source": [
    "import csv\n",
    "\n",
    "f = open('incheon_population.csv', 'r')\n",
    "data = csv.reader(f)\n",
    "\n",
    "male = []\n",
    "female = []\n",
    "\n",
    "for row in data:\n",
    "    if '송도1동' in row[0]:\n",
    "        for i in row[3:104]:\n",
    "            # male.append(int(i))     # 남성 데이터를 리스트 male에 저장\n",
    "            male.append(-int(i))      # 마이너스 부호를 넣어서 음수로 변경\n",
    "        for i in row[106:207]:\n",
    "            female.append(int(i))   # 여성 데이터를 리스트 female에 저장"
   ]
  },
  {
   "cell_type": "code",
   "execution_count": null,
   "metadata": {},
   "outputs": [],
   "source": [
    "import matplotlib.pyplot as plt\n",
    "\n",
    "plt.rc('font', family = 'Malgun Gothic')\n",
    "plt.title('송도1동 연령별 인구수')\n",
    "\n",
    "plt.rcParams['axes.unicode_minus'] = False\n",
    "plt.barh(range(101), male, label='남성')\n",
    "plt.barh(range(101), female, label='여성')\n",
    "plt.xlabel('연령')\n",
    "plt.ylabel('인구수')\n",
    "plt.legend()\n",
    "plt.show()"
   ]
  },
  {
   "cell_type": "code",
   "execution_count": null,
   "metadata": {},
   "outputs": [],
   "source": [
    "import csv\n",
    "\n",
    "f = open('incheon_population.csv', 'r')\n",
    "data = csv.reader(f)\n",
    "\n",
    "male = []\n",
    "female = []\n",
    "name = input('찾고 싶은 지역의 이름을 입력 : ')\n",
    "\n",
    "for row in data:\n",
    "    if '송도1동' in row[0]:\n",
    "        for i in row[3:104]:\n",
    "            # male.append(int(i))     # 남성 데이터를 리스트 male에 저장\n",
    "            male.append(-int(i))      # 마이너스 부호를 넣어서 음수로 변경\n",
    "        for i in row[106:207]:\n",
    "            female.append(int(i))   # 여성 데이터를 리스트 female에 저장"
   ]
  }
 ],
 "metadata": {
  "kernelspec": {
   "display_name": "Python 3",
   "language": "python",
   "name": "python3"
  },
  "language_info": {
   "codemirror_mode": {
    "name": "ipython",
    "version": 3
   },
   "file_extension": ".py",
   "mimetype": "text/x-python",
   "name": "python",
   "nbconvert_exporter": "python",
   "pygments_lexer": "ipython3",
   "version": "3.8.3"
  }
 },
 "nbformat": 4,
 "nbformat_minor": 4
}
