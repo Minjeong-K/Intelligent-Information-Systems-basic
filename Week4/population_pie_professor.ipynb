{
 "cells": [
  {
   "cell_type": "markdown",
   "metadata": {},
   "source": [
    "각 Cell을 실행시켜보면서 값을 확인해 보세요~\n",
    "* Ctrl + Enter"
   ]
  },
  {
   "cell_type": "code",
   "execution_count": null,
   "metadata": {},
   "outputs": [],
   "source": [
    "import matplotlib.pyplot as plt\n",
    "\n",
    "plt.pie([10, 20])\n",
    "plt.show()"
   ]
  },
  {
   "cell_type": "code",
   "execution_count": null,
   "metadata": {},
   "outputs": [],
   "source": [
    "import matplotlib.pyplot as plt\n",
    "\n",
    "plt.axis('equal')\n",
    "plt.pie([100, 200, 300, 400])\n",
    "plt.show()"
   ]
  },
  {
   "cell_type": "code",
   "execution_count": null,
   "metadata": {},
   "outputs": [],
   "source": [
    "import matplotlib.pyplot as plt\n",
    "\n",
    "plt.rc('font', family = 'Malgun Gothic')\n",
    "plt.axis('equal')\n",
    "plt.pie([100, 200, 300, 400], labels=['레이블1', '레이블2', '레이블3', '레이블4'])\n",
    "plt.show()"
   ]
  },
  {
   "cell_type": "code",
   "execution_count": null,
   "metadata": {},
   "outputs": [],
   "source": [
    "import matplotlib.pyplot as plt\n",
    "\n",
    "plt.rc('font', family = 'Malgun Gothic')\n",
    "plt.axis('equal')\n",
    "size = [120, 250, 330, 410]\n",
    "label = ['레이블1', '레이블2', '레이블3', '레이블4']\n",
    "plt.pie(size, labels=label, autopct='%.1f%%')\n",
    "plt.legend()\n",
    "plt.show()"
   ]
  },
  {
   "cell_type": "code",
   "execution_count": null,
   "metadata": {},
   "outputs": [],
   "source": [
    "import matplotlib.pyplot as plt\n",
    "\n",
    "plt.rc('font', family = 'Malgun Gothic')\n",
    "plt.axis('equal')\n",
    "size = [120, 250, 330, 410]\n",
    "label = ['레이블1', '레이블2', '레이블3', '레이블4']\n",
    "plt.pie(size, labels=label, autopct='%.2f%%')\n",
    "plt.legend()\n",
    "plt.show()"
   ]
  },
  {
   "cell_type": "code",
   "execution_count": null,
   "metadata": {},
   "outputs": [],
   "source": [
    "import matplotlib.pyplot as plt\n",
    "\n",
    "plt.rc('font', family = 'Malgun Gothic')\n",
    "plt.axis('equal')\n",
    "size = [120, 250, 330, 410]\n",
    "label = ['레이블1', '레이블2', '레이블3', '레이블4']\n",
    "color = ['darkmagenta', 'deeppink', 'hotpink', 'pink']\n",
    "plt.pie(size, labels=label, autopct='%.2f%%', colors=color)\n",
    "plt.legend()\n",
    "plt.show()"
   ]
  },
  {
   "cell_type": "code",
   "execution_count": null,
   "metadata": {},
   "outputs": [],
   "source": [
    "import matplotlib.pyplot as plt\n",
    "\n",
    "plt.rc('font', family = 'Malgun Gothic')\n",
    "plt.axis('equal')\n",
    "size = [120, 250, 330, 410]\n",
    "label = ['레이블1', '레이블2', '레이블3', '레이블4']\n",
    "color = ['darkmagenta', 'deeppink', 'hotpink', 'pink']\n",
    "exp = (0, 0, 0.3, 0)\n",
    "plt.pie(size, labels=label, autopct='%.2f%%', colors=color, explode=exp)\n",
    "plt.legend()\n",
    "plt.show()"
   ]
  },
  {
   "cell_type": "code",
   "execution_count": null,
   "metadata": {},
   "outputs": [],
   "source": [
    "import csv\n",
    "\n",
    "f = open('incheon_population.csv', 'r')\n",
    "data = csv.reader(f)\n",
    "\n",
    "result = []                                          \n",
    "m_sum, f_sum = 0, 0\n",
    "\n",
    "for row in data:\n",
    "    if '송도1동' in row[0]:                          \n",
    "        for i in range(101):\n",
    "            m_sum = m_sum + int(row[i+3])    # 3 ~ 103번까지 데이터 더하기\n",
    "            f_sum +=int(row[i+106])          # 106 ~ 206번까지 데이터 더하기\n",
    "\n",
    "result.append(m_sum)                         # 남성 합계 데이터 리스트에 추가\n",
    "result.append(f_sum)                         # 여성 합계 데이터 리스트에 추가\n",
    "print(result)                                         "
   ]
  },
  {
   "cell_type": "code",
   "execution_count": null,
   "metadata": {},
   "outputs": [],
   "source": [
    "import matplotlib.pyplot as plt\n",
    "\n",
    "plt.rc('font', family = 'Malgun Gothic')\n",
    "plt.axis('equal')\n",
    "\n",
    "label = ['남', '여']\n",
    "color = ['crimson', 'darkcyan']\n",
    "plt.pie(result, labels=label, autopct='%.1f%%', colors=color)\n",
    "plt.legend()\n",
    "plt.show()"
   ]
  },
  {
   "cell_type": "code",
   "execution_count": null,
   "metadata": {},
   "outputs": [],
   "source": [
    "import matplotlib.pyplot as plt\n",
    "\n",
    "plt.rc('font', family = 'Malgun Gothic')\n",
    "plt.axis('equal')\n",
    "\n",
    "label = ['남', '여']\n",
    "color = ['crimson', 'darkcyan']\n",
    "plt.pie(result, labels=label, autopct='%.1f%%', colors=color, startangle=90)\n",
    "plt.legend()\n",
    "plt.show()"
   ]
  },
  {
   "cell_type": "code",
   "execution_count": null,
   "metadata": {},
   "outputs": [],
   "source": [
    "import matplotlib.pyplot as plt\n",
    "\n",
    "plt.rc('font', family = 'Malgun Gothic')\n",
    "plt.axis('equal')\n",
    "\n",
    "size = [50, 150]\n",
    "label = ['남', '여']\n",
    "color = ['crimson', 'crimson']\n",
    "plt.pie(size, explode=(0, 0.1), colors=color)\n",
    "\n",
    "plt.show()"
   ]
  }
 ],
 "metadata": {
  "kernelspec": {
   "display_name": "Python 3",
   "language": "python",
   "name": "python3"
  },
  "language_info": {
   "codemirror_mode": {
    "name": "ipython",
    "version": 3
   },
   "file_extension": ".py",
   "mimetype": "text/x-python",
   "name": "python",
   "nbconvert_exporter": "python",
   "pygments_lexer": "ipython3",
   "version": "3.8.3"
  }
 },
 "nbformat": 4,
 "nbformat_minor": 4
}
