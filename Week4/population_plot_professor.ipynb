{
 "cells": [
  {
   "cell_type": "markdown",
   "metadata": {},
   "source": [
    "각 Cell을 실행시켜보면서 값을 확인해 보세요~\n",
    "* Ctrl + Enter"
   ]
  },
  {
   "cell_type": "code",
   "execution_count": null,
   "metadata": {},
   "outputs": [],
   "source": [
    "print('인천' in '인천광역시 연수구 송도1동(2818582000)')"
   ]
  },
  {
   "cell_type": "code",
   "execution_count": null,
   "metadata": {},
   "outputs": [],
   "source": [
    "print('송도1동' in '인천광역시 연수구 송도1동(2818582000)')"
   ]
  },
  {
   "cell_type": "code",
   "execution_count": null,
   "metadata": {},
   "outputs": [],
   "source": [
    "print('()' in '인천광역시 연수구 송도1동(2818582000)')"
   ]
  },
  {
   "cell_type": "code",
   "execution_count": null,
   "metadata": {},
   "outputs": [],
   "source": [
    "import csv\n",
    "\n",
    "f = open('incheon_population.csv', 'r')\n",
    "data = csv.reader(f)\n",
    "\n",
    "for row in data:\n",
    "    if '송도1동' in row[0]:\n",
    "        print(row)"
   ]
  },
  {
   "cell_type": "code",
   "execution_count": null,
   "metadata": {},
   "outputs": [],
   "source": [
    "import csv\n",
    "\n",
    "f = open('incheon_population.csv', 'r')\n",
    "data = csv.reader(f)\n",
    "header = next(data)\n",
    "print(header)"
   ]
  },
  {
   "cell_type": "code",
   "execution_count": null,
   "metadata": {},
   "outputs": [],
   "source": [
    "import csv\n",
    "\n",
    "f = open('incheon_population.csv', 'r')\n",
    "data = csv.reader(f)\n",
    "\n",
    "for row in data:\n",
    "    if '송도1동' in row[0]:\n",
    "        for i in row[3:104]:\n",
    "            print(i)"
   ]
  },
  {
   "cell_type": "code",
   "execution_count": null,
   "metadata": {},
   "outputs": [],
   "source": [
    "a = [1, 2, 3, 4, 5]\n",
    "print(a[1:3])"
   ]
  },
  {
   "cell_type": "code",
   "execution_count": null,
   "metadata": {},
   "outputs": [],
   "source": [
    "import csv\n",
    "\n",
    "f = open('incheon_population.csv', 'r')\n",
    "data = csv.reader(f)\n",
    "\n",
    "male = []\n",
    "for row in data:\n",
    "    if '송도1동' in row[0]:\n",
    "        for i in row[3:104]:\n",
    "            # print(i)\n",
    "            male.append(i)\n",
    "print(male)"
   ]
  },
  {
   "cell_type": "code",
   "execution_count": null,
   "metadata": {},
   "outputs": [],
   "source": [
    "import csv\n",
    "\n",
    "f = open('incheon_population.csv', 'r')\n",
    "data = csv.reader(f)\n",
    "\n",
    "male = []\n",
    "for row in data:\n",
    "    if '송도1동' in row[0]:\n",
    "        for i in row[3:104]:\n",
    "            # print(i)\n",
    "            male.append(int(i))\n",
    "print(male)"
   ]
  },
  {
   "cell_type": "code",
   "execution_count": null,
   "metadata": {},
   "outputs": [],
   "source": [
    "import matplotlib.pyplot as plt\n",
    "\n",
    "plt.style.use('ggplot')  # 격자 무늬 스타일 지정\n",
    "plt.plot(male)\n",
    "plt.show()"
   ]
  },
  {
   "cell_type": "code",
   "execution_count": null,
   "metadata": {},
   "outputs": [],
   "source": [
    "import matplotlib.pyplot as plt\n",
    "\n",
    "plt.rc('font', family = 'Malgun Gothic')\n",
    "plt.title('송도1동 남성 연령별 인구수')\n",
    "\n",
    "plt.style.use('ggplot')  # 격자 무늬 스타일 지정\n",
    "plt.plot(male)\n",
    "plt.show()"
   ]
  },
  {
   "cell_type": "code",
   "execution_count": null,
   "metadata": {},
   "outputs": [],
   "source": [
    "import matplotlib.pyplot as plt\n",
    "\n",
    "plt.rc('font', family = 'Malgun Gothic')\n",
    "plt.title('송도1동 남성 연령별 인구수')\n",
    "\n",
    "plt.style.use('ggplot')  # 격자 무늬 스타일 지정\n",
    "plt.plot(male)\n",
    "plt.xlabel('연령')\n",
    "plt.ylabel('인구수')\n",
    "plt.show()"
   ]
  },
  {
   "cell_type": "code",
   "execution_count": null,
   "metadata": {},
   "outputs": [],
   "source": [
    "import csv\n",
    "\n",
    "f = open('incheon_population.csv', 'r')\n",
    "data = csv.reader(f)\n",
    "\n",
    "female = []\n",
    "for row in data:\n",
    "    if '송도1동' in row[0]:\n",
    "        for i in row[106:207]:\n",
    "            female.append(int(i))\n",
    "\n",
    "print(female)"
   ]
  },
  {
   "cell_type": "code",
   "execution_count": null,
   "metadata": {},
   "outputs": [],
   "source": [
    "import matplotlib.pyplot as plt\n",
    "\n",
    "plt.rc('font', family = 'Malgun Gothic')\n",
    "plt.title('송도1동 여성 연령별 인구수')\n",
    "\n",
    "plt.style.use('ggplot')  # 격자 무늬 스타일 지정\n",
    "plt.plot(female)\n",
    "plt.xlabel('연령')\n",
    "plt.ylabel('인구수')\n",
    "plt.show()"
   ]
  },
  {
   "cell_type": "code",
   "execution_count": null,
   "metadata": {},
   "outputs": [],
   "source": [
    "import csv\n",
    "\n",
    "f = open('incheon_population.csv', 'r')\n",
    "data = csv.reader(f)\n",
    "\n",
    "result = []                                          \n",
    "\n",
    "for row in data:\n",
    "    if '송도1동' in row[0]:                          \n",
    "        for m, f in zip(row[3:104], row[106:207]):   \n",
    "            result.append(int(m)+int(f))              \n",
    "\n",
    "print(result)                                         "
   ]
  },
  {
   "cell_type": "code",
   "execution_count": null,
   "metadata": {},
   "outputs": [],
   "source": [
    "import csv\n",
    "\n",
    "f = open('incheon_population.csv', 'r')\n",
    "data = csv.reader(f)\n",
    "\n",
    "result = []                                          # 빈 리스트 만들기\n",
    "\n",
    "for row in data:\n",
    "    if '송도1동' in row[0]:                          # 송도1동이 포함된 행정구역 찾기\n",
    "        for m, f in zip(row[3:104], row[106:207]):   # 0세부터 끝(100세 이상)까지 모든 연령에 대해 반복하기\n",
    "            result.append(int(m)+int(f))              # 해당 연령의 인구수 리스트에 순서대로 저장하기\n",
    "\n",
    "print(result)                                         # 0세부터 100세 이상까지의 인구수 출력하기"
   ]
  },
  {
   "cell_type": "code",
   "execution_count": null,
   "metadata": {},
   "outputs": [],
   "source": [
    "print(len(row[3:104]))"
   ]
  },
  {
   "cell_type": "code",
   "execution_count": null,
   "metadata": {},
   "outputs": [],
   "source": [
    "import matplotlib.pyplot as plt\n",
    "\n",
    "plt.rc('font', family = 'Malgun Gothic')\n",
    "plt.title('송도1동 연령별 인구수')\n",
    "\n",
    "plt.style.use('ggplot')  # 격자 무늬 스타일 지정\n",
    "plt.plot(result)\n",
    "plt.xlabel('연령')\n",
    "plt.ylabel('인구수')\n",
    "plt.show()"
   ]
  },
  {
   "cell_type": "code",
   "execution_count": null,
   "metadata": {},
   "outputs": [],
   "source": [
    "import matplotlib.pyplot as plt\n",
    "\n",
    "print(plt.style.available)"
   ]
  },
  {
   "cell_type": "code",
   "execution_count": null,
   "metadata": {},
   "outputs": [],
   "source": [
    "import csv\n",
    "import matplotlib.pyplot as plt\n",
    "\n",
    "f = open('incheon_population.csv', 'r')\n",
    "data = csv.reader(f)\n",
    "\n",
    "result = []                                          \n",
    "name = input('인구 구조를 알고 싶은 동 이름 입력 : ')\n",
    "\n",
    "for row in data:\n",
    "    if name in row[0]:                          \n",
    "        for m, f in zip(row[3:104], row[106:207]):   \n",
    "            result.append(int(m)+int(f))              \n",
    "\n",
    "# print(result)                                         \n",
    "\n",
    "plt.rc('font', family = 'Malgun Gothic')\n",
    "plt.title(name + '연령별 인구수')\n",
    "\n",
    "plt.style.use('ggplot')  # 격자 무늬 스타일 지정\n",
    "plt.plot(result)\n",
    "plt.xlabel('연령')\n",
    "plt.ylabel('인구수')\n",
    "plt.show()"
   ]
  }
 ],
 "metadata": {
  "kernelspec": {
   "display_name": "Python 3",
   "language": "python",
   "name": "python3"
  },
  "language_info": {
   "codemirror_mode": {
    "name": "ipython",
    "version": 3
   },
   "file_extension": ".py",
   "mimetype": "text/x-python",
   "name": "python",
   "nbconvert_exporter": "python",
   "pygments_lexer": "ipython3",
   "version": "3.8.3"
  }
 },
 "nbformat": 4,
 "nbformat_minor": 4
}
